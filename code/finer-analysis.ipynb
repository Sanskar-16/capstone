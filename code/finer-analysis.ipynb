{
 "cells": [
  {
   "cell_type": "markdown",
   "source": [
    "# Necessary library imports"
   ],
   "metadata": {
    "collapsed": false
   }
  },
  {
   "cell_type": "code",
   "execution_count": 38,
   "outputs": [],
   "source": [
    "import pandas as pd\n",
    "import seaborn as sns\n",
    "import numpy as np\n",
    "from matplotlib import pyplot as plt\n",
    "from scipy.stats import kurtosis, skew"
   ],
   "metadata": {
    "collapsed": false,
    "pycharm": {
     "name": "#%%\n"
    }
   }
  },
  {
   "cell_type": "markdown",
   "source": [
    "# Reading in all the files"
   ],
   "metadata": {
    "collapsed": false
   }
  },
  {
   "cell_type": "code",
   "execution_count": 39,
   "outputs": [],
   "source": [
    "df2 = pd.read_csv('..//output//2v.csv')\n",
    "df3 = pd.read_csv('..//output//3v.csv')\n",
    "df4 = pd.read_csv('..//output//4v.csv')\n",
    "df5 = pd.read_csv('..//output//5v.csv')\n",
    "df6 = pd.read_csv('..//output//6v.csv')\n",
    "df7 = pd.read_csv('..//output//7v.csv')\n",
    "df8 = pd.read_csv('..//output//8v.csv')\n",
    "df9 = pd.read_csv('..//output//9v.csv')\n",
    "df10 = pd.read_csv('..//output//10v.csv')"
   ],
   "metadata": {
    "collapsed": false,
    "pycharm": {
     "name": "#%%\n"
    }
   }
  },
  {
   "cell_type": "markdown",
   "source": [
    "# Assigning df to the file on which the analysis is to be done and n to the number of vertices the file is for (avoids redundant loading of files)."
   ],
   "metadata": {
    "collapsed": false
   }
  },
  {
   "cell_type": "code",
   "execution_count": 40,
   "outputs": [],
   "source": [
    "df, n = df3, 3"
   ],
   "metadata": {
    "collapsed": false,
    "pycharm": {
     "name": "#%%\n"
    }
   }
  },
  {
   "cell_type": "markdown",
   "source": [
    "# Viewing the data"
   ],
   "metadata": {
    "collapsed": false
   }
  },
  {
   "cell_type": "code",
   "execution_count": 41,
   "outputs": [
    {
     "data": {
      "text/plain": "   Graph_number  Number_of_vertices starting_colour_vector  \\\n0             1                   3              [1, 1, 1]   \n1             1                   3             [1, 1, -1]   \n2             1                   3             [1, -1, 1]   \n3             1                   3            [1, -1, -1]   \n4             2                   3              [1, 1, 1]   \n\n  ending_colour_vector  step_time  cycle  \n0            [1, 1, 1]          1      1  \n1            [1, 1, 1]          2      1  \n2            [1, 1, 1]          2      1  \n3         [-1, -1, -1]          2      1  \n4            [1, 1, 1]          1      1  ",
      "text/html": "<div>\n<style scoped>\n    .dataframe tbody tr th:only-of-type {\n        vertical-align: middle;\n    }\n\n    .dataframe tbody tr th {\n        vertical-align: top;\n    }\n\n    .dataframe thead th {\n        text-align: right;\n    }\n</style>\n<table border=\"1\" class=\"dataframe\">\n  <thead>\n    <tr style=\"text-align: right;\">\n      <th></th>\n      <th>Graph_number</th>\n      <th>Number_of_vertices</th>\n      <th>starting_colour_vector</th>\n      <th>ending_colour_vector</th>\n      <th>step_time</th>\n      <th>cycle</th>\n    </tr>\n  </thead>\n  <tbody>\n    <tr>\n      <th>0</th>\n      <td>1</td>\n      <td>3</td>\n      <td>[1, 1, 1]</td>\n      <td>[1, 1, 1]</td>\n      <td>1</td>\n      <td>1</td>\n    </tr>\n    <tr>\n      <th>1</th>\n      <td>1</td>\n      <td>3</td>\n      <td>[1, 1, -1]</td>\n      <td>[1, 1, 1]</td>\n      <td>2</td>\n      <td>1</td>\n    </tr>\n    <tr>\n      <th>2</th>\n      <td>1</td>\n      <td>3</td>\n      <td>[1, -1, 1]</td>\n      <td>[1, 1, 1]</td>\n      <td>2</td>\n      <td>1</td>\n    </tr>\n    <tr>\n      <th>3</th>\n      <td>1</td>\n      <td>3</td>\n      <td>[1, -1, -1]</td>\n      <td>[-1, -1, -1]</td>\n      <td>2</td>\n      <td>1</td>\n    </tr>\n    <tr>\n      <th>4</th>\n      <td>2</td>\n      <td>3</td>\n      <td>[1, 1, 1]</td>\n      <td>[1, 1, 1]</td>\n      <td>1</td>\n      <td>1</td>\n    </tr>\n  </tbody>\n</table>\n</div>"
     },
     "execution_count": 41,
     "metadata": {},
     "output_type": "execute_result"
    }
   ],
   "source": [
    "df.head()"
   ],
   "metadata": {
    "collapsed": false,
    "pycharm": {
     "name": "#%%\n"
    }
   }
  },
  {
   "cell_type": "markdown",
   "source": [
    "# Obtaining the value counts for variables 'step_time', 'cycle', starting_colour_vector' and 'ending_colour_vector'"
   ],
   "metadata": {
    "collapsed": false
   }
  },
  {
   "cell_type": "code",
   "execution_count": 42,
   "outputs": [
    {
     "name": "stdout",
     "output_type": "stream",
     "text": [
      "2    9\n",
      "1    7\n",
      "Name: step_time, dtype: int64\n"
     ]
    }
   ],
   "source": [
    "step_time_value_counts = df['step_time'].value_counts()\n",
    "print(step_time_value_counts)"
   ],
   "metadata": {
    "collapsed": false,
    "pycharm": {
     "name": "#%%\n"
    }
   }
  },
  {
   "cell_type": "code",
   "execution_count": 43,
   "outputs": [
    {
     "name": "stdout",
     "output_type": "stream",
     "text": [
      "1    13\n",
      "2     3\n",
      "Name: cycle, dtype: int64\n"
     ]
    }
   ],
   "source": [
    "cycle_value_counts = df['cycle'].value_counts()\n",
    "print(cycle_value_counts)"
   ],
   "metadata": {
    "collapsed": false,
    "pycharm": {
     "name": "#%%\n"
    }
   }
  },
  {
   "cell_type": "code",
   "execution_count": 44,
   "outputs": [
    {
     "name": "stdout",
     "output_type": "stream",
     "text": [
      "[1, 1, 1]      4\n",
      "[1, 1, -1]     4\n",
      "[1, -1, 1]     4\n",
      "[1, -1, -1]    4\n",
      "Name: starting_colour_vector, dtype: int64\n"
     ]
    }
   ],
   "source": [
    "scv_value_counts = df['starting_colour_vector'].value_counts()\n",
    "print(scv_value_counts)"
   ],
   "metadata": {
    "collapsed": false,
    "pycharm": {
     "name": "#%%\n"
    }
   }
  },
  {
   "cell_type": "code",
   "execution_count": 45,
   "outputs": [
    {
     "name": "stdout",
     "output_type": "stream",
     "text": [
      "[1, 1, 1]       10\n",
      "[-1, -1, -1]     3\n",
      "[1, -1, -1]      1\n",
      "[1, -1, 1]       1\n",
      "[1, 1, -1]       1\n",
      "Name: ending_colour_vector, dtype: int64\n"
     ]
    }
   ],
   "source": [
    "ecv_value_counts = df['ending_colour_vector'].value_counts()\n",
    "print(ecv_value_counts)"
   ],
   "metadata": {
    "collapsed": false,
    "pycharm": {
     "name": "#%%\n"
    }
   }
  },
  {
   "cell_type": "markdown",
   "source": [
    "# Converting the value counts for all the variables to percent form"
   ],
   "metadata": {
    "collapsed": false
   }
  },
  {
   "cell_type": "code",
   "execution_count": 46,
   "outputs": [
    {
     "name": "stdout",
     "output_type": "stream",
     "text": [
      "{2: 56.2, 1: 43.8}\n"
     ]
    }
   ],
   "source": [
    "step_time_value_counts_percent = dict(df.step_time.value_counts(normalize=True) * 100)\n",
    "for k, v in step_time_value_counts_percent.items():\n",
    "    step_time_value_counts_percent[k] = round(v, 1)\n",
    "\n",
    "print(step_time_value_counts_percent)"
   ],
   "metadata": {
    "collapsed": false,
    "pycharm": {
     "name": "#%%\n"
    }
   }
  },
  {
   "cell_type": "code",
   "execution_count": 47,
   "outputs": [
    {
     "name": "stdout",
     "output_type": "stream",
     "text": [
      "{1: 81.2, 2: 18.8}\n"
     ]
    }
   ],
   "source": [
    "cycle_value_counts_percent = dict(df.cycle.value_counts(normalize=True) * 100)\n",
    "for k, v in cycle_value_counts_percent.items():\n",
    "    cycle_value_counts_percent[k] = round(v, 1)\n",
    "\n",
    "print(cycle_value_counts_percent)"
   ],
   "metadata": {
    "collapsed": false,
    "pycharm": {
     "name": "#%%\n"
    }
   }
  },
  {
   "cell_type": "code",
   "execution_count": 48,
   "outputs": [
    {
     "name": "stdout",
     "output_type": "stream",
     "text": [
      "{2: 56.2, 1: 43.8}\n"
     ]
    }
   ],
   "source": [
    "scv_value_counts_percent = dict(df.starting_colour_vector.value_counts(normalize=True) * 100)\n",
    "for k, v in step_time_value_counts_percent.items():\n",
    "    step_time_value_counts_percent[k] = round(v, 1)\n",
    "\n",
    "print(step_time_value_counts_percent)"
   ],
   "metadata": {
    "collapsed": false,
    "pycharm": {
     "name": "#%%\n"
    }
   }
  },
  {
   "cell_type": "code",
   "execution_count": 49,
   "outputs": [
    {
     "name": "stdout",
     "output_type": "stream",
     "text": [
      "{'[1, 1, 1]': 62.5, '[-1, -1, -1]': 18.8, '[1, -1, -1]': 6.2, '[1, -1, 1]': 6.2, '[1, 1, -1]': 6.2}\n"
     ]
    }
   ],
   "source": [
    "ecv_value_counts_percent = dict(df.ending_colour_vector.value_counts(normalize=True) * 100)\n",
    "for k, v in ecv_value_counts_percent.items():\n",
    "    ecv_value_counts_percent[k] = round(v, 1)\n",
    "\n",
    "print(ecv_value_counts_percent)"
   ],
   "metadata": {
    "collapsed": false,
    "pycharm": {
     "name": "#%%\n"
    }
   }
  },
  {
   "cell_type": "markdown",
   "source": [
    "# Saving the percent form as a new column for further visualisation"
   ],
   "metadata": {
    "collapsed": false
   }
  },
  {
   "cell_type": "code",
   "execution_count": 50,
   "outputs": [
    {
     "data": {
      "text/plain": "   Graph_number  Number_of_vertices starting_colour_vector  \\\n0             1                   3              [1, 1, 1]   \n1             1                   3             [1, 1, -1]   \n2             1                   3             [1, -1, 1]   \n3             1                   3            [1, -1, -1]   \n4             2                   3              [1, 1, 1]   \n\n  ending_colour_vector  step_time  cycle  percent_sp  \n0            [1, 1, 1]          1      1        43.8  \n1            [1, 1, 1]          2      1        56.2  \n2            [1, 1, 1]          2      1        56.2  \n3         [-1, -1, -1]          2      1        56.2  \n4            [1, 1, 1]          1      1        43.8  ",
      "text/html": "<div>\n<style scoped>\n    .dataframe tbody tr th:only-of-type {\n        vertical-align: middle;\n    }\n\n    .dataframe tbody tr th {\n        vertical-align: top;\n    }\n\n    .dataframe thead th {\n        text-align: right;\n    }\n</style>\n<table border=\"1\" class=\"dataframe\">\n  <thead>\n    <tr style=\"text-align: right;\">\n      <th></th>\n      <th>Graph_number</th>\n      <th>Number_of_vertices</th>\n      <th>starting_colour_vector</th>\n      <th>ending_colour_vector</th>\n      <th>step_time</th>\n      <th>cycle</th>\n      <th>percent_sp</th>\n    </tr>\n  </thead>\n  <tbody>\n    <tr>\n      <th>0</th>\n      <td>1</td>\n      <td>3</td>\n      <td>[1, 1, 1]</td>\n      <td>[1, 1, 1]</td>\n      <td>1</td>\n      <td>1</td>\n      <td>43.8</td>\n    </tr>\n    <tr>\n      <th>1</th>\n      <td>1</td>\n      <td>3</td>\n      <td>[1, 1, -1]</td>\n      <td>[1, 1, 1]</td>\n      <td>2</td>\n      <td>1</td>\n      <td>56.2</td>\n    </tr>\n    <tr>\n      <th>2</th>\n      <td>1</td>\n      <td>3</td>\n      <td>[1, -1, 1]</td>\n      <td>[1, 1, 1]</td>\n      <td>2</td>\n      <td>1</td>\n      <td>56.2</td>\n    </tr>\n    <tr>\n      <th>3</th>\n      <td>1</td>\n      <td>3</td>\n      <td>[1, -1, -1]</td>\n      <td>[-1, -1, -1]</td>\n      <td>2</td>\n      <td>1</td>\n      <td>56.2</td>\n    </tr>\n    <tr>\n      <th>4</th>\n      <td>2</td>\n      <td>3</td>\n      <td>[1, 1, 1]</td>\n      <td>[1, 1, 1]</td>\n      <td>1</td>\n      <td>1</td>\n      <td>43.8</td>\n    </tr>\n  </tbody>\n</table>\n</div>"
     },
     "execution_count": 50,
     "metadata": {},
     "output_type": "execute_result"
    }
   ],
   "source": [
    "df['percent_sp'] = df['step_time'].map(step_time_value_counts_percent)\n",
    "df.head()"
   ],
   "metadata": {
    "collapsed": false,
    "pycharm": {
     "name": "#%%\n"
    }
   }
  },
  {
   "cell_type": "code",
   "execution_count": 51,
   "outputs": [
    {
     "data": {
      "text/plain": "   Graph_number  Number_of_vertices starting_colour_vector  \\\n0             1                   3              [1, 1, 1]   \n1             1                   3             [1, 1, -1]   \n2             1                   3             [1, -1, 1]   \n3             1                   3            [1, -1, -1]   \n4             2                   3              [1, 1, 1]   \n\n  ending_colour_vector  step_time  cycle  percent_sp  percent_cy  \n0            [1, 1, 1]          1      1        43.8        81.2  \n1            [1, 1, 1]          2      1        56.2        81.2  \n2            [1, 1, 1]          2      1        56.2        81.2  \n3         [-1, -1, -1]          2      1        56.2        81.2  \n4            [1, 1, 1]          1      1        43.8        81.2  ",
      "text/html": "<div>\n<style scoped>\n    .dataframe tbody tr th:only-of-type {\n        vertical-align: middle;\n    }\n\n    .dataframe tbody tr th {\n        vertical-align: top;\n    }\n\n    .dataframe thead th {\n        text-align: right;\n    }\n</style>\n<table border=\"1\" class=\"dataframe\">\n  <thead>\n    <tr style=\"text-align: right;\">\n      <th></th>\n      <th>Graph_number</th>\n      <th>Number_of_vertices</th>\n      <th>starting_colour_vector</th>\n      <th>ending_colour_vector</th>\n      <th>step_time</th>\n      <th>cycle</th>\n      <th>percent_sp</th>\n      <th>percent_cy</th>\n    </tr>\n  </thead>\n  <tbody>\n    <tr>\n      <th>0</th>\n      <td>1</td>\n      <td>3</td>\n      <td>[1, 1, 1]</td>\n      <td>[1, 1, 1]</td>\n      <td>1</td>\n      <td>1</td>\n      <td>43.8</td>\n      <td>81.2</td>\n    </tr>\n    <tr>\n      <th>1</th>\n      <td>1</td>\n      <td>3</td>\n      <td>[1, 1, -1]</td>\n      <td>[1, 1, 1]</td>\n      <td>2</td>\n      <td>1</td>\n      <td>56.2</td>\n      <td>81.2</td>\n    </tr>\n    <tr>\n      <th>2</th>\n      <td>1</td>\n      <td>3</td>\n      <td>[1, -1, 1]</td>\n      <td>[1, 1, 1]</td>\n      <td>2</td>\n      <td>1</td>\n      <td>56.2</td>\n      <td>81.2</td>\n    </tr>\n    <tr>\n      <th>3</th>\n      <td>1</td>\n      <td>3</td>\n      <td>[1, -1, -1]</td>\n      <td>[-1, -1, -1]</td>\n      <td>2</td>\n      <td>1</td>\n      <td>56.2</td>\n      <td>81.2</td>\n    </tr>\n    <tr>\n      <th>4</th>\n      <td>2</td>\n      <td>3</td>\n      <td>[1, 1, 1]</td>\n      <td>[1, 1, 1]</td>\n      <td>1</td>\n      <td>1</td>\n      <td>43.8</td>\n      <td>81.2</td>\n    </tr>\n  </tbody>\n</table>\n</div>"
     },
     "execution_count": 51,
     "metadata": {},
     "output_type": "execute_result"
    }
   ],
   "source": [
    "df['percent_cy'] = df['cycle'].map(cycle_value_counts_percent)\n",
    "df.head()"
   ],
   "metadata": {
    "collapsed": false,
    "pycharm": {
     "name": "#%%\n"
    }
   }
  },
  {
   "cell_type": "code",
   "execution_count": 52,
   "outputs": [
    {
     "data": {
      "text/plain": "   Graph_number  Number_of_vertices starting_colour_vector  \\\n0             1                   3              [1, 1, 1]   \n1             1                   3             [1, 1, -1]   \n2             1                   3             [1, -1, 1]   \n3             1                   3            [1, -1, -1]   \n4             2                   3              [1, 1, 1]   \n\n  ending_colour_vector  step_time  cycle  percent_sp  percent_cy  percent_scv  \n0            [1, 1, 1]          1      1        43.8        81.2         25.0  \n1            [1, 1, 1]          2      1        56.2        81.2         25.0  \n2            [1, 1, 1]          2      1        56.2        81.2         25.0  \n3         [-1, -1, -1]          2      1        56.2        81.2         25.0  \n4            [1, 1, 1]          1      1        43.8        81.2         25.0  ",
      "text/html": "<div>\n<style scoped>\n    .dataframe tbody tr th:only-of-type {\n        vertical-align: middle;\n    }\n\n    .dataframe tbody tr th {\n        vertical-align: top;\n    }\n\n    .dataframe thead th {\n        text-align: right;\n    }\n</style>\n<table border=\"1\" class=\"dataframe\">\n  <thead>\n    <tr style=\"text-align: right;\">\n      <th></th>\n      <th>Graph_number</th>\n      <th>Number_of_vertices</th>\n      <th>starting_colour_vector</th>\n      <th>ending_colour_vector</th>\n      <th>step_time</th>\n      <th>cycle</th>\n      <th>percent_sp</th>\n      <th>percent_cy</th>\n      <th>percent_scv</th>\n    </tr>\n  </thead>\n  <tbody>\n    <tr>\n      <th>0</th>\n      <td>1</td>\n      <td>3</td>\n      <td>[1, 1, 1]</td>\n      <td>[1, 1, 1]</td>\n      <td>1</td>\n      <td>1</td>\n      <td>43.8</td>\n      <td>81.2</td>\n      <td>25.0</td>\n    </tr>\n    <tr>\n      <th>1</th>\n      <td>1</td>\n      <td>3</td>\n      <td>[1, 1, -1]</td>\n      <td>[1, 1, 1]</td>\n      <td>2</td>\n      <td>1</td>\n      <td>56.2</td>\n      <td>81.2</td>\n      <td>25.0</td>\n    </tr>\n    <tr>\n      <th>2</th>\n      <td>1</td>\n      <td>3</td>\n      <td>[1, -1, 1]</td>\n      <td>[1, 1, 1]</td>\n      <td>2</td>\n      <td>1</td>\n      <td>56.2</td>\n      <td>81.2</td>\n      <td>25.0</td>\n    </tr>\n    <tr>\n      <th>3</th>\n      <td>1</td>\n      <td>3</td>\n      <td>[1, -1, -1]</td>\n      <td>[-1, -1, -1]</td>\n      <td>2</td>\n      <td>1</td>\n      <td>56.2</td>\n      <td>81.2</td>\n      <td>25.0</td>\n    </tr>\n    <tr>\n      <th>4</th>\n      <td>2</td>\n      <td>3</td>\n      <td>[1, 1, 1]</td>\n      <td>[1, 1, 1]</td>\n      <td>1</td>\n      <td>1</td>\n      <td>43.8</td>\n      <td>81.2</td>\n      <td>25.0</td>\n    </tr>\n  </tbody>\n</table>\n</div>"
     },
     "execution_count": 52,
     "metadata": {},
     "output_type": "execute_result"
    }
   ],
   "source": [
    "df['percent_scv'] = df['starting_colour_vector'].map(scv_value_counts_percent)\n",
    "df.head()"
   ],
   "metadata": {
    "collapsed": false,
    "pycharm": {
     "name": "#%%\n"
    }
   }
  },
  {
   "cell_type": "code",
   "execution_count": 53,
   "outputs": [
    {
     "data": {
      "text/plain": "   Graph_number  Number_of_vertices starting_colour_vector  \\\n0             1                   3              [1, 1, 1]   \n1             1                   3             [1, 1, -1]   \n2             1                   3             [1, -1, 1]   \n3             1                   3            [1, -1, -1]   \n4             2                   3              [1, 1, 1]   \n\n  ending_colour_vector  step_time  cycle  percent_sp  percent_cy  percent_scv  \\\n0            [1, 1, 1]          1      1        43.8        81.2         25.0   \n1            [1, 1, 1]          2      1        56.2        81.2         25.0   \n2            [1, 1, 1]          2      1        56.2        81.2         25.0   \n3         [-1, -1, -1]          2      1        56.2        81.2         25.0   \n4            [1, 1, 1]          1      1        43.8        81.2         25.0   \n\n   percent_ecv  \n0         62.5  \n1         62.5  \n2         62.5  \n3         18.8  \n4         62.5  ",
      "text/html": "<div>\n<style scoped>\n    .dataframe tbody tr th:only-of-type {\n        vertical-align: middle;\n    }\n\n    .dataframe tbody tr th {\n        vertical-align: top;\n    }\n\n    .dataframe thead th {\n        text-align: right;\n    }\n</style>\n<table border=\"1\" class=\"dataframe\">\n  <thead>\n    <tr style=\"text-align: right;\">\n      <th></th>\n      <th>Graph_number</th>\n      <th>Number_of_vertices</th>\n      <th>starting_colour_vector</th>\n      <th>ending_colour_vector</th>\n      <th>step_time</th>\n      <th>cycle</th>\n      <th>percent_sp</th>\n      <th>percent_cy</th>\n      <th>percent_scv</th>\n      <th>percent_ecv</th>\n    </tr>\n  </thead>\n  <tbody>\n    <tr>\n      <th>0</th>\n      <td>1</td>\n      <td>3</td>\n      <td>[1, 1, 1]</td>\n      <td>[1, 1, 1]</td>\n      <td>1</td>\n      <td>1</td>\n      <td>43.8</td>\n      <td>81.2</td>\n      <td>25.0</td>\n      <td>62.5</td>\n    </tr>\n    <tr>\n      <th>1</th>\n      <td>1</td>\n      <td>3</td>\n      <td>[1, 1, -1]</td>\n      <td>[1, 1, 1]</td>\n      <td>2</td>\n      <td>1</td>\n      <td>56.2</td>\n      <td>81.2</td>\n      <td>25.0</td>\n      <td>62.5</td>\n    </tr>\n    <tr>\n      <th>2</th>\n      <td>1</td>\n      <td>3</td>\n      <td>[1, -1, 1]</td>\n      <td>[1, 1, 1]</td>\n      <td>2</td>\n      <td>1</td>\n      <td>56.2</td>\n      <td>81.2</td>\n      <td>25.0</td>\n      <td>62.5</td>\n    </tr>\n    <tr>\n      <th>3</th>\n      <td>1</td>\n      <td>3</td>\n      <td>[1, -1, -1]</td>\n      <td>[-1, -1, -1]</td>\n      <td>2</td>\n      <td>1</td>\n      <td>56.2</td>\n      <td>81.2</td>\n      <td>25.0</td>\n      <td>18.8</td>\n    </tr>\n    <tr>\n      <th>4</th>\n      <td>2</td>\n      <td>3</td>\n      <td>[1, 1, 1]</td>\n      <td>[1, 1, 1]</td>\n      <td>1</td>\n      <td>1</td>\n      <td>43.8</td>\n      <td>81.2</td>\n      <td>25.0</td>\n      <td>62.5</td>\n    </tr>\n  </tbody>\n</table>\n</div>"
     },
     "execution_count": 53,
     "metadata": {},
     "output_type": "execute_result"
    }
   ],
   "source": [
    "df['percent_ecv'] = df['ending_colour_vector'].map(ecv_value_counts_percent)\n",
    "df.head()"
   ],
   "metadata": {
    "collapsed": false,
    "pycharm": {
     "name": "#%%\n"
    }
   }
  },
  {
   "cell_type": "markdown",
   "source": [
    "# Setting plotting style"
   ],
   "metadata": {
    "collapsed": false
   }
  },
  {
   "cell_type": "code",
   "execution_count": 54,
   "outputs": [
    {
     "data": {
      "text/plain": "<Figure size 432x288 with 0 Axes>"
     },
     "metadata": {},
     "output_type": "display_data"
    }
   ],
   "source": [
    "sns.set_style(\"dark\")\n",
    "sns.despine()"
   ],
   "metadata": {
    "collapsed": false,
    "pycharm": {
     "name": "#%%\n"
    }
   }
  },
  {
   "cell_type": "markdown",
   "source": [
    "# Bar plot for variable step_time"
   ],
   "metadata": {
    "collapsed": false
   }
  },
  {
   "cell_type": "code",
   "execution_count": 55,
   "outputs": [
    {
     "data": {
      "text/plain": "Text(0, 0.5, 'percentage of step time')"
     },
     "execution_count": 55,
     "metadata": {},
     "output_type": "execute_result"
    },
    {
     "data": {
      "text/plain": "<Figure size 432x288 with 1 Axes>",
      "image/png": "[encoded data removed]"
     },
     "metadata": {},
     "output_type": "display_data"
    }
   ],
   "source": [
    "bar = sns.barplot(x=df['step_time'], y=df['percent_sp'], data=df)\n",
    "bar.set(ylim=(0, 100))\n",
    "bar.set_xlabel('step time for v = {}'.format(n))\n",
    "bar.set_ylabel('percentage')"
   ],
   "metadata": {
    "collapsed": false,
    "pycharm": {
     "name": "#%%\n"
    }
   }
  },
  {
   "cell_type": "markdown",
   "source": [
    "# Bar plot for variable cycle"
   ],
   "metadata": {
    "collapsed": false
   }
  },
  {
   "cell_type": "code",
   "execution_count": 56,
   "outputs": [
    {
     "data": {
      "text/plain": "Text(0, 0.5, 'percentage of cycle')"
     },
     "execution_count": 56,
     "metadata": {},
     "output_type": "execute_result"
    },
    {
     "data": {
      "text/plain": "<Figure size 432x288 with 1 Axes>",
      "image/png": "[encoded data removed]"
     },
     "metadata": {},
     "output_type": "display_data"
    }
   ],
   "source": [
    "bar = sns.barplot(x=df['cycle'], y=df['percent_cy'], data=df)\n",
    "bar.set(ylim=(0, 100))\n",
    "bar.set_xlabel('cycle for v = {}'.format(n))\n",
    "bar.set_ylabel('percentage')"
   ],
   "metadata": {
    "collapsed": false,
    "pycharm": {
     "name": "#%%\n"
    }
   }
  },
  {
   "cell_type": "markdown",
   "source": [
    "# Bar plot for variable starting colour vector"
   ],
   "metadata": {
    "collapsed": false
   }
  },
  {
   "cell_type": "code",
   "execution_count": 57,
   "outputs": [
    {
     "data": {
      "text/plain": "Text(0, 0.5, 'percentage of scv')"
     },
     "execution_count": 57,
     "metadata": {},
     "output_type": "execute_result"
    },
    {
     "data": {
      "text/plain": "<Figure size 432x288 with 1 Axes>",
      "image/png": "[encoded data removed]"
     },
     "metadata": {},
     "output_type": "display_data"
    }
   ],
   "source": [
    "bar = sns.barplot(x=df['starting_colour_vector'], y=df['percent_scv'], data=df)\n",
    "bar.set(ylim=(0, 100))\n",
    "bar.set_xlabel('scv for v = {}'.format(n))\n",
    "bar.set_ylabel('percentage')"
   ],
   "metadata": {
    "collapsed": false,
    "pycharm": {
     "name": "#%%\n"
    }
   }
  },
  {
   "cell_type": "markdown",
   "source": [
    "# Bar plot for variable ending colour vector"
   ],
   "metadata": {
    "collapsed": false
   }
  },
  {
   "cell_type": "code",
   "execution_count": 58,
   "outputs": [
    {
     "data": {
      "text/plain": "Text(0, 0.5, 'percentage of ecv')"
     },
     "execution_count": 58,
     "metadata": {},
     "output_type": "execute_result"
    },
    {
     "data": {
      "text/plain": "<Figure size 432x288 with 1 Axes>",
      "image/png": "[encoded data removed]"
     },
     "metadata": {},
     "output_type": "display_data"
    }
   ],
   "source": [
    "bar = sns.barplot(x=df['ending_colour_vector'], y=df['percent_ecv'], data=df)\n",
    "bar.set(ylim=(0, 100))\n",
    "bar.set_xlabel('ecv for v = {}'.format(n))\n",
    "bar.set_ylabel('percentage')"
   ],
   "metadata": {
    "collapsed": false,
    "pycharm": {
     "name": "#%%\n"
    }
   }
  },
  {
   "cell_type": "markdown",
   "source": [
    "# Variance, Mean, Skew and Kurtosis analysis for the following columns"
   ],
   "metadata": {
    "collapsed": false
   }
  },
  {
   "cell_type": "markdown",
   "source": [
    "## Step_time"
   ],
   "metadata": {
    "collapsed": false
   }
  },
  {
   "cell_type": "code",
   "execution_count": 59,
   "outputs": [
    {
     "name": "stderr",
     "output_type": "stream",
     "text": [
      "C:\\Users\\sansk\\anaconda3\\envs\\dataSci\\lib\\site-packages\\seaborn\\distributions.py:2619: FutureWarning: `distplot` is a deprecated function and will be removed in a future version. Please adapt your code to use either `displot` (a figure-level function with similar flexibility) or `histplot` (an axes-level function for histograms).\n",
      "  warnings.warn(msg, FutureWarning)\n"
     ]
    },
    {
     "name": "stdout",
     "output_type": "stream",
     "text": [
      "mean :  50.775\n",
      "var  :  37.83937500000004\n",
      "skew :  -0.251976315339484\n",
      "kurt :  -1.9365079365079367\n"
     ]
    },
    {
     "data": {
      "text/plain": "<Figure size 432x288 with 1 Axes>",
      "image/png": "[encoded data removed]"
     },
     "metadata": {},
     "output_type": "display_data"
    }
   ],
   "source": [
    "var = np.var(df['percent_sp'])\n",
    "mean = df['percent_sp'].mean()\n",
    "sns.distplot(df['percent_sp'], bins=20)\n",
    "\n",
    "\n",
    "print(\"mean : \", mean)\n",
    "print(\"var  : \", var)\n",
    "print(\"skew : \",skew(df['percent_sp']))\n",
    "print(\"kurt : \",kurtosis(df['percent_sp']))"
   ],
   "metadata": {
    "collapsed": false,
    "pycharm": {
     "name": "#%%\n"
    }
   }
  },
  {
   "cell_type": "markdown",
   "source": [
    "## Cycle"
   ],
   "metadata": {
    "collapsed": false
   }
  },
  {
   "cell_type": "code",
   "execution_count": 60,
   "outputs": [
    {
     "name": "stdout",
     "output_type": "stream",
     "text": [
      "mean :  69.5\n",
      "var  :  593.19\n",
      "skew :  -1.6012815380508714\n",
      "kurt :  0.5641025641025643\n"
     ]
    },
    {
     "name": "stderr",
     "output_type": "stream",
     "text": [
      "C:\\Users\\sansk\\anaconda3\\envs\\dataSci\\lib\\site-packages\\seaborn\\distributions.py:2619: FutureWarning: `distplot` is a deprecated function and will be removed in a future version. Please adapt your code to use either `displot` (a figure-level function with similar flexibility) or `histplot` (an axes-level function for histograms).\n",
      "  warnings.warn(msg, FutureWarning)\n"
     ]
    },
    {
     "data": {
      "text/plain": "<Figure size 432x288 with 1 Axes>",
      "image/png": "[encoded data removed]"
     },
     "metadata": {},
     "output_type": "display_data"
    }
   ],
   "source": [
    "var = np.var(df['percent_cy'])\n",
    "mean = df['percent_cy'].mean()\n",
    "sns.distplot(df['percent_cy'], bins=20)\n",
    "\n",
    "\n",
    "print(\"mean : \", mean)\n",
    "print(\"var  : \", var)\n",
    "print(\"skew : \",skew(df['percent_cy']))\n",
    "print(\"kurt : \",kurtosis(df['percent_cy']))"
   ],
   "metadata": {
    "collapsed": false,
    "pycharm": {
     "name": "#%%\n"
    }
   }
  },
  {
   "cell_type": "markdown",
   "source": [
    "## Starting colour vector"
   ],
   "metadata": {
    "collapsed": false
   }
  },
  {
   "cell_type": "code",
   "execution_count": 61,
   "outputs": [
    {
     "name": "stderr",
     "output_type": "stream",
     "text": [
      "C:\\Users\\sansk\\anaconda3\\envs\\dataSci\\lib\\site-packages\\seaborn\\distributions.py:2619: FutureWarning: `distplot` is a deprecated function and will be removed in a future version. Please adapt your code to use either `displot` (a figure-level function with similar flexibility) or `histplot` (an axes-level function for histograms).\n",
      "  warnings.warn(msg, FutureWarning)\n",
      "C:\\Users\\sansk\\anaconda3\\envs\\dataSci\\lib\\site-packages\\seaborn\\distributions.py:316: UserWarning: Dataset has 0 variance; skipping density estimate. Pass `warn_singular=False` to disable this warning.\n",
      "  warnings.warn(msg, UserWarning)\n"
     ]
    },
    {
     "name": "stdout",
     "output_type": "stream",
     "text": [
      "mean :  25.0\n",
      "var  :  0.0\n",
      "skew :  0.0\n",
      "kurt :  -3.0\n"
     ]
    },
    {
     "data": {
      "text/plain": "<Figure size 432x288 with 1 Axes>",
      "image/png": "[encoded data removed]"
     },
     "metadata": {},
     "output_type": "display_data"
    }
   ],
   "source": [
    "var = np.var(df['percent_scv'])\n",
    "mean = df['percent_scv'].mean()\n",
    "sns.distplot(df['percent_scv'], bins=20)\n",
    "\n",
    "\n",
    "print(\"mean : \", mean)\n",
    "print(\"var  : \", var)\n",
    "print(\"skew : \",skew(df['percent_scv']))\n",
    "print(\"kurt : \",kurtosis(df['percent_scv']))"
   ],
   "metadata": {
    "collapsed": false,
    "pycharm": {
     "name": "#%%\n"
    }
   }
  },
  {
   "cell_type": "markdown",
   "source": [
    "## Ending colour vector"
   ],
   "metadata": {
    "collapsed": false
   }
  },
  {
   "cell_type": "code",
   "execution_count": 62,
   "outputs": [
    {
     "name": "stderr",
     "output_type": "stream",
     "text": [
      "C:\\Users\\sansk\\anaconda3\\envs\\dataSci\\lib\\site-packages\\seaborn\\distributions.py:2619: FutureWarning: `distplot` is a deprecated function and will be removed in a future version. Please adapt your code to use either `displot` (a figure-level function with similar flexibility) or `histplot` (an axes-level function for histograms).\n",
      "  warnings.warn(msg, FutureWarning)\n"
     ]
    },
    {
     "name": "stdout",
     "output_type": "stream",
     "text": [
      "mean :  43.75\n",
      "var  :  600.82125\n",
      "skew :  -0.5920755912080032\n",
      "kurt :  -1.55208943176539\n"
     ]
    },
    {
     "data": {
      "text/plain": "<Figure size 432x288 with 1 Axes>",
      "image/png": "[encoded data removed]"
     },
     "metadata": {},
     "output_type": "display_data"
    }
   ],
   "source": [
    "var = np.var(df['percent_ecv'])\n",
    "mean = df['percent_ecv'].mean()\n",
    "sns.distplot(df['percent_ecv'], bins=20)\n",
    "\n",
    "\n",
    "print(\"mean : \", mean)\n",
    "print(\"var  : \", var)\n",
    "print(\"skew : \",skew(df['percent_ecv']))\n",
    "print(\"kurt : \",kurtosis(df['percent_ecv']))"
   ],
   "metadata": {
    "collapsed": false,
    "pycharm": {
     "name": "#%%\n"
    }
   }
  }
 ],
 "metadata": {
  "kernelspec": {
   "display_name": "Python 3",
   "language": "python",
   "name": "python3"
  },
  "language_info": {
   "codemirror_mode": {
    "name": "ipython",
    "version": 2
   },
   "file_extension": ".py",
   "mimetype": "text/x-python",
   "name": "python",
   "nbconvert_exporter": "python",
   "pygments_lexer": "ipython2",
   "version": "2.7.6"
  }
 },
 "nbformat": 4,
 "nbformat_minor": 0
}