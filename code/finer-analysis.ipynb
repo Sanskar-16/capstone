{
 "cells": [
  {
   "cell_type": "markdown",
   "source": [
    "# Necessary library imports"
   ],
   "metadata": {
    "collapsed": false
   }
  },
  {
   "cell_type": "code",
   "execution_count": 1,
   "outputs": [],
   "source": [
    "import pandas as pd\n",
    "import seaborn as sns\n",
    "import numpy as np\n",
    "from matplotlib import pyplot as plt\n",
    "from scipy.stats import kurtosis, skew"
   ],
   "metadata": {
    "collapsed": false,
    "pycharm": {
     "name": "#%%\n"
    }
   }
  },
  {
   "cell_type": "markdown",
   "source": [
    "# Reading in all the files"
   ],
   "metadata": {
    "collapsed": false
   }
  },
  {
   "cell_type": "code",
   "execution_count": 2,
   "outputs": [],
   "source": [
    "df2 = pd.read_csv('..//output//2v.csv')\n",
    "df3 = pd.read_csv('..//output//3v.csv')\n",
    "df4 = pd.read_csv('..//output//4v.csv')\n",
    "df5 = pd.read_csv('..//output//5v.csv')\n",
    "df6 = pd.read_csv('..//output//6v.csv')\n",
    "df7 = pd.read_csv('..//output//7v.csv')\n",
    "df8 = pd.read_csv('..//output//8v.csv')\n",
    "df9 = pd.read_csv('..//output//9v.csv')\n",
    "df10 = pd.read_csv('..//output//10v.csv')"
   ],
   "metadata": {
    "collapsed": false,
    "pycharm": {
     "name": "#%%\n"
    }
   }
  },
  {
   "cell_type": "markdown",
   "source": [
    "# Assigning df to the file on which the analysis is to be done and n to the number of vertices the file is for (avoids redundant loading of files)."
   ],
   "metadata": {
    "collapsed": false
   }
  },
  {
   "cell_type": "code",
   "execution_count": 72,
   "outputs": [],
   "source": [
    "df, n = df8, 8"
   ],
   "metadata": {
    "collapsed": false,
    "pycharm": {
     "name": "#%%\n"
    }
   }
  },
  {
   "cell_type": "markdown",
   "source": [
    "# Viewing the data"
   ],
   "metadata": {
    "collapsed": false
   }
  },
  {
   "cell_type": "code",
   "execution_count": 73,
   "outputs": [
    {
     "data": {
      "text/plain": "   Graph_number  Number_of_vertices      starting_colour_vector  \\\n0             1                   8    [1, 1, 1, 1, 1, 1, 1, 1]   \n1             1                   8   [1, 1, 1, 1, 1, 1, 1, -1]   \n2             1                   8   [1, 1, 1, 1, 1, 1, -1, 1]   \n3             1                   8  [1, 1, 1, 1, 1, 1, -1, -1]   \n4             1                   8   [1, 1, 1, 1, 1, -1, 1, 1]   \n\n       ending_colour_vector  step_time  cycle  \n0  [1, 1, 1, 1, 1, 1, 1, 1]          1      1  \n1  [1, 1, 1, 1, 1, 1, 1, 1]          2      1  \n2  [1, 1, 1, 1, 1, 1, 1, 1]          2      1  \n3  [1, 1, 1, 1, 1, 1, 1, 1]          2      1  \n4  [1, 1, 1, 1, 1, 1, 1, 1]          2      1  ",
      "text/html": "<div>\n<style scoped>\n    .dataframe tbody tr th:only-of-type {\n        vertical-align: middle;\n    }\n\n    .dataframe tbody tr th {\n        vertical-align: top;\n    }\n\n    .dataframe thead th {\n        text-align: right;\n    }\n</style>\n<table border=\"1\" class=\"dataframe\">\n  <thead>\n    <tr style=\"text-align: right;\">\n      <th></th>\n      <th>Graph_number</th>\n      <th>Number_of_vertices</th>\n      <th>starting_colour_vector</th>\n      <th>ending_colour_vector</th>\n      <th>step_time</th>\n      <th>cycle</th>\n    </tr>\n  </thead>\n  <tbody>\n    <tr>\n      <th>0</th>\n      <td>1</td>\n      <td>8</td>\n      <td>[1, 1, 1, 1, 1, 1, 1, 1]</td>\n      <td>[1, 1, 1, 1, 1, 1, 1, 1]</td>\n      <td>1</td>\n      <td>1</td>\n    </tr>\n    <tr>\n      <th>1</th>\n      <td>1</td>\n      <td>8</td>\n      <td>[1, 1, 1, 1, 1, 1, 1, -1]</td>\n      <td>[1, 1, 1, 1, 1, 1, 1, 1]</td>\n      <td>2</td>\n      <td>1</td>\n    </tr>\n    <tr>\n      <th>2</th>\n      <td>1</td>\n      <td>8</td>\n      <td>[1, 1, 1, 1, 1, 1, -1, 1]</td>\n      <td>[1, 1, 1, 1, 1, 1, 1, 1]</td>\n      <td>2</td>\n      <td>1</td>\n    </tr>\n    <tr>\n      <th>3</th>\n      <td>1</td>\n      <td>8</td>\n      <td>[1, 1, 1, 1, 1, 1, -1, -1]</td>\n      <td>[1, 1, 1, 1, 1, 1, 1, 1]</td>\n      <td>2</td>\n      <td>1</td>\n    </tr>\n    <tr>\n      <th>4</th>\n      <td>1</td>\n      <td>8</td>\n      <td>[1, 1, 1, 1, 1, -1, 1, 1]</td>\n      <td>[1, 1, 1, 1, 1, 1, 1, 1]</td>\n      <td>2</td>\n      <td>1</td>\n    </tr>\n  </tbody>\n</table>\n</div>"
     },
     "execution_count": 73,
     "metadata": {},
     "output_type": "execute_result"
    }
   ],
   "source": [
    "df.head()"
   ],
   "metadata": {
    "collapsed": false,
    "pycharm": {
     "name": "#%%\n"
    }
   }
  },
  {
   "cell_type": "markdown",
   "source": [
    "# Obtaining the value counts for variables 'step_time', 'cycle', starting_colour_vector' and 'ending_colour_vector'"
   ],
   "metadata": {
    "collapsed": false
   }
  },
  {
   "cell_type": "code",
   "execution_count": 74,
   "outputs": [
    {
     "name": "stdout",
     "output_type": "stream",
     "text": [
      "2    2826273\n",
      "3    2059077\n",
      "4     897151\n",
      "5     253919\n",
      "1     222079\n",
      "6      37814\n",
      "7       4231\n",
      "8        384\n",
      "Name: step_time, dtype: int64\n"
     ]
    }
   ],
   "source": [
    "step_time_value_counts = df['step_time'].value_counts()\n",
    "print(step_time_value_counts)"
   ],
   "metadata": {
    "collapsed": false,
    "pycharm": {
     "name": "#%%\n"
    }
   }
  },
  {
   "cell_type": "code",
   "execution_count": 75,
   "outputs": [
    {
     "name": "stdout",
     "output_type": "stream",
     "text": [
      "1    6031294\n",
      "2     269634\n",
      "Name: cycle, dtype: int64\n"
     ]
    }
   ],
   "source": [
    "cycle_value_counts = df['cycle'].value_counts()\n",
    "print(cycle_value_counts)"
   ],
   "metadata": {
    "collapsed": false,
    "pycharm": {
     "name": "#%%\n"
    }
   }
  },
  {
   "cell_type": "code",
   "execution_count": 76,
   "outputs": [
    {
     "name": "stdout",
     "output_type": "stream",
     "text": [
      "[1, 1, 1, 1, 1, 1, 1, 1]           49226\n",
      "[1, 1, 1, 1, 1, 1, 1, -1]          49226\n",
      "[1, -1, 1, -1, -1, -1, -1, 1]      49226\n",
      "[1, -1, 1, -1, -1, -1, 1, -1]      49226\n",
      "[1, -1, 1, -1, -1, -1, 1, 1]       49226\n",
      "                                   ...  \n",
      "[1, 1, -1, 1, 1, -1, 1, -1]        49226\n",
      "[1, 1, -1, 1, 1, -1, 1, 1]         49226\n",
      "[1, 1, -1, 1, 1, 1, -1, -1]        49226\n",
      "[1, 1, -1, 1, 1, 1, -1, 1]         49226\n",
      "[1, -1, -1, -1, -1, -1, -1, -1]    49226\n",
      "Name: starting_colour_vector, Length: 128, dtype: int64\n"
     ]
    }
   ],
   "source": [
    "scv_value_counts = df['starting_colour_vector'].value_counts()\n",
    "print(scv_value_counts)"
   ],
   "metadata": {
    "collapsed": false,
    "pycharm": {
     "name": "#%%\n"
    }
   }
  },
  {
   "cell_type": "code",
   "execution_count": 77,
   "outputs": [
    {
     "name": "stdout",
     "output_type": "stream",
     "text": [
      "[1, 1, 1, 1, 1, 1, 1, 1]            4022743\n",
      "[-1, -1, -1, -1, -1, -1, -1, -1]    1995119\n",
      "[1, 1, 1, -1, -1, -1, -1, 1]          10450\n",
      "[1, 1, -1, 1, -1, -1, -1, 1]          10395\n",
      "[1, 1, -1, 1, -1, -1, 1, -1]          10302\n",
      "                                     ...   \n",
      "[-1, -1, 1, 1, -1, -1, -1, 1]             1\n",
      "[-1, -1, 1, -1, 1, -1, 1, -1]             1\n",
      "[-1, -1, 1, -1, 1, -1, -1, 1]             1\n",
      "[-1, -1, 1, 1, -1, -1, 1, -1]             1\n",
      "[-1, -1, -1, 1, 1, -1, 1, -1]             1\n",
      "Name: ending_colour_vector, Length: 154, dtype: int64\n"
     ]
    }
   ],
   "source": [
    "ecv_value_counts = df['ending_colour_vector'].value_counts()\n",
    "print(ecv_value_counts)"
   ],
   "metadata": {
    "collapsed": false,
    "pycharm": {
     "name": "#%%\n"
    }
   }
  },
  {
   "cell_type": "markdown",
   "source": [
    "# Converting the value counts for all the variables to percent form"
   ],
   "metadata": {
    "collapsed": false
   }
  },
  {
   "cell_type": "code",
   "execution_count": 78,
   "outputs": [
    {
     "name": "stdout",
     "output_type": "stream",
     "text": [
      "{2: 44.9, 3: 32.7, 4: 14.2, 5: 4.0, 1: 3.5, 6: 0.6, 7: 0.1, 8: 0.0}\n"
     ]
    }
   ],
   "source": [
    "step_time_value_counts_percent = dict(df.step_time.value_counts(normalize=True) * 100)\n",
    "for k, v in step_time_value_counts_percent.items():\n",
    "    step_time_value_counts_percent[k] = round(v, 1)\n",
    "\n",
    "print(step_time_value_counts_percent)"
   ],
   "metadata": {
    "collapsed": false,
    "pycharm": {
     "name": "#%%\n"
    }
   }
  },
  {
   "cell_type": "code",
   "execution_count": 79,
   "outputs": [
    {
     "name": "stdout",
     "output_type": "stream",
     "text": [
      "{1: 95.7, 2: 4.3}\n"
     ]
    }
   ],
   "source": [
    "cycle_value_counts_percent = dict(df.cycle.value_counts(normalize=True) * 100)\n",
    "for k, v in cycle_value_counts_percent.items():\n",
    "    cycle_value_counts_percent[k] = round(v, 1)\n",
    "\n",
    "print(cycle_value_counts_percent)"
   ],
   "metadata": {
    "collapsed": false,
    "pycharm": {
     "name": "#%%\n"
    }
   }
  },
  {
   "cell_type": "code",
   "execution_count": 80,
   "outputs": [
    {
     "name": "stdout",
     "output_type": "stream",
     "text": [
      "{2: 44.9, 3: 32.7, 4: 14.2, 5: 4.0, 1: 3.5, 6: 0.6, 7: 0.1, 8: 0.0}\n"
     ]
    }
   ],
   "source": [
    "scv_value_counts_percent = dict(df.starting_colour_vector.value_counts(normalize=True) * 100)\n",
    "for k, v in step_time_value_counts_percent.items():\n",
    "    step_time_value_counts_percent[k] = round(v, 1)\n",
    "\n",
    "print(step_time_value_counts_percent)"
   ],
   "metadata": {
    "collapsed": false,
    "pycharm": {
     "name": "#%%\n"
    }
   }
  },
  {
   "cell_type": "code",
   "execution_count": 81,
   "outputs": [
    {
     "name": "stdout",
     "output_type": "stream",
     "text": [
      "{'[1, 1, 1, 1, 1, 1, 1, 1]': 63.8, '[-1, -1, -1, -1, -1, -1, -1, -1]': 31.7, '[1, 1, 1, -1, -1, -1, -1, 1]': 0.2, '[1, 1, -1, 1, -1, -1, -1, 1]': 0.2, '[1, 1, -1, 1, -1, -1, 1, -1]': 0.2, '[1, 1, 1, -1, -1, -1, 1, -1]': 0.2, '[1, 1, -1, -1, 1, -1, -1, 1]': 0.1, '[1, 1, -1, -1, 1, -1, 1, -1]': 0.1, '[1, -1, 1, -1, 1, -1, -1, 1]': 0.1, '[1, -1, 1, 1, -1, -1, -1, 1]': 0.1, '[1, -1, -1, 1, 1, -1, -1, 1]': 0.1, '[1, -1, -1, 1, 1, -1, 1, -1]': 0.1, '[1, -1, 1, 1, -1, -1, 1, -1]': 0.1, '[1, -1, 1, -1, 1, -1, 1, -1]': 0.1, '[1, -1, -1, 1, -1, 1, 1, -1]': 0.1, '[1, -1, -1, -1, 1, 1, 1, -1]': 0.1, '[1, -1, 1, -1, -1, 1, 1, -1]': 0.1, '[1, -1, 1, -1, -1, 1, -1, 1]': 0.1, '[1, -1, -1, -1, 1, 1, -1, 1]': 0.1, '[1, -1, -1, 1, -1, 1, -1, 1]': 0.1, '[1, 1, 1, 1, 1, 1, -1, -1]': 0.1, '[1, 1, -1, -1, -1, -1, 1, 1]': 0.1, '[1, 1, -1, -1, -1, 1, 1, -1]': 0.1, '[1, 1, -1, -1, -1, 1, -1, 1]': 0.1, '[-1, -1, -1, 1, 1, 1, 1, -1]': 0.1, '[-1, -1, 1, -1, 1, 1, -1, 1]': 0.1, '[-1, -1, 1, -1, 1, 1, 1, -1]': 0.1, '[-1, -1, -1, 1, 1, 1, -1, 1]': 0.1, '[1, -1, -1, 1, 1, 1, -1, -1]': 0.1, '[1, -1, 1, -1, 1, 1, -1, -1]': 0.1, '[1, -1, 1, -1, -1, -1, 1, 1]': 0.1, '[1, -1, -1, 1, -1, -1, 1, 1]': 0.1, '[-1, -1, 1, 1, 1, 1, -1, -1]': 0.1, '[1, 1, 1, -1, -1, -1, -1, -1]': 0.0, '[1, -1, 1, 1, -1, 1, -1, -1]': 0.0, '[1, 1, -1, 1, -1, -1, -1, -1]': 0.0, '[1, 1, 1, -1, -1, 1, -1, -1]': 0.0, '[1, -1, -1, -1, 1, -1, 1, 1]': 0.0, '[1, 1, -1, 1, -1, 1, -1, -1]': 0.0, '[-1, -1, -1, -1, -1, -1, 1, 1]': 0.0, '[-1, -1, -1, 1, 1, 1, 1, 1]': 0.0, '[-1, -1, 1, -1, 1, 1, 1, 1]': 0.0, '[1, 1, -1, -1, 1, 1, -1, -1]': 0.0, '[-1, -1, 1, -1, 1, 1, -1, -1]': 0.0, '[-1, -1, -1, 1, 1, 1, -1, -1]': 0.0, '[-1, 1, 1, -1, 1, 1, -1, -1]': 0.0, '[-1, 1, -1, 1, 1, 1, -1, -1]': 0.0, '[-1, -1, 1, 1, -1, 1, 1, -1]': 0.0, '[-1, -1, 1, 1, -1, 1, -1, 1]': 0.0, '[-1, 1, -1, 1, -1, -1, 1, 1]': 0.0, '[-1, 1, 1, -1, -1, -1, 1, 1]': 0.0, '[1, 1, 1, -1, 1, -1, -1, -1]': 0.0, '[1, 1, -1, 1, 1, -1, -1, -1]': 0.0, '[1, -1, 1, 1, 1, -1, -1, -1]': 0.0, '[1, 1, -1, -1, 1, -1, -1, -1]': 0.0, '[1, 1, -1, 1, -1, -1, 1, 1]': 0.0, '[1, 1, 1, -1, -1, -1, 1, 1]': 0.0, '[1, -1, -1, -1, -1, 1, 1, 1]': 0.0, '[1, 1, 1, 1, -1, -1, -1, -1]': 0.0, '[-1, -1, 1, 1, -1, 1, 1, 1]': 0.0, '[-1, 1, 1, -1, 1, -1, -1, 1]': 0.0, '[-1, 1, -1, 1, 1, -1, 1, -1]': 0.0, '[-1, 1, -1, 1, 1, -1, -1, 1]': 0.0, '[-1, 1, 1, -1, 1, -1, 1, -1]': 0.0, '[-1, 1, 1, 1, -1, -1, -1, 1]': 0.0, '[-1, 1, 1, 1, -1, -1, 1, -1]': 0.0, '[-1, 1, 1, -1, -1, 1, -1, 1]': 0.0, '[-1, 1, -1, 1, -1, 1, 1, -1]': 0.0, '[-1, 1, -1, 1, -1, 1, -1, 1]': 0.0, '[-1, 1, 1, -1, -1, 1, 1, -1]': 0.0, '[-1, 1, -1, -1, 1, 1, 1, -1]': 0.0, '[-1, 1, -1, -1, 1, 1, -1, 1]': 0.0, '[1, -1, -1, -1, 1, 1, 1, 1]': 0.0, '[1, -1, 1, 1, -1, -1, -1, -1]': 0.0, '[1, -1, 1, -1, -1, 1, 1, 1]': 0.0, '[1, -1, -1, 1, -1, 1, 1, 1]': 0.0, '[1, -1, -1, 1, 1, -1, -1, -1]': 0.0, '[1, -1, 1, -1, 1, -1, -1, -1]': 0.0, '[-1, 1, 1, 1, -1, 1, -1, -1]': 0.0, '[-1, -1, 1, 1, -1, 1, -1, -1]': 0.0, '[-1, 1, -1, -1, 1, -1, 1, 1]': 0.0, '[-1, 1, -1, 1, -1, 1, 1, 1]': 0.0, '[-1, 1, 1, -1, -1, 1, 1, 1]': 0.0, '[1, 1, -1, -1, 1, -1, 1, 1]': 0.0, '[-1, -1, 1, 1, 1, -1, -1, 1]': 0.0, '[-1, 1, -1, 1, 1, -1, -1, -1]': 0.0, '[-1, 1, 1, -1, 1, -1, -1, -1]': 0.0, '[-1, 1, -1, -1, 1, 1, 1, 1]': 0.0, '[-1, -1, 1, 1, 1, -1, 1, -1]': 0.0, '[-1, 1, 1, 1, -1, -1, -1, -1]': 0.0, '[-1, 1, 1, -1, 1, -1, 1, 1]': 0.0, '[-1, 1, -1, 1, 1, -1, 1, 1]': 0.0, '[-1, 1, 1, 1, -1, -1, 1, 1]': 0.0, '[-1, -1, -1, 1, 1, -1, 1, 1]': 0.0, '[-1, -1, 1, -1, 1, -1, 1, 1]': 0.0, '[-1, -1, -1, 1, -1, 1, 1, 1]': 0.0, '[1, -1, 1, 1, -1, -1, 1, 1]': 0.0, '[1, -1, 1, -1, 1, -1, 1, 1]': 0.0, '[-1, -1, 1, -1, -1, 1, 1, 1]': 0.0, '[1, -1, -1, 1, 1, -1, 1, 1]': 0.0, '[-1, 1, -1, 1, -1, 1, -1, -1]': 0.0, '[-1, 1, 1, -1, -1, 1, -1, -1]': 0.0, '[-1, 1, -1, -1, 1, 1, -1, -1]': 0.0, '[1, 1, -1, -1, -1, 1, 1, 1]': 0.0, '[-1, 1, 1, 1, 1, -1, -1, -1]': 0.0, '[-1, -1, -1, -1, 1, 1, 1, 1]': 0.0, '[-1, -1, 1, 1, -1, -1, 1, 1]': 0.0, '[1, -1, 1, -1, -1, 1, -1, -1]': 0.0, '[1, -1, -1, 1, -1, 1, -1, -1]': 0.0, '[1, -1, -1, -1, 1, 1, -1, -1]': 0.0, '[-1, 1, -1, -1, -1, 1, 1, 1]': 0.0, '[-1, -1, 1, 1, 1, -1, -1, -1]': 0.0, '[1, 1, -1, -1, -1, 1, -1, -1]': 0.0, '[-1, -1, 1, 1, 1, 1, -1, 1]': 0.0, '[-1, -1, 1, 1, 1, 1, 1, -1]': 0.0, '[-1, -1, 1, 1, 1, -1, 1, 1]': 0.0, '[1, 1, -1, -1, -1, -1, 1, -1]': 0.0, '[1, 1, -1, -1, -1, -1, -1, 1]': 0.0, '[-1, 1, 1, -1, 1, 1, -1, 1]': 0.0, '[-1, 1, -1, 1, 1, 1, -1, 1]': 0.0, '[-1, 1, 1, -1, 1, 1, 1, -1]': 0.0, '[-1, 1, -1, 1, 1, 1, 1, -1]': 0.0, '[-1, 1, -1, 1, -1, -1, -1, 1]': 0.0, '[-1, 1, 1, -1, -1, -1, 1, -1]': 0.0, '[-1, 1, -1, 1, -1, -1, 1, -1]': 0.0, '[-1, 1, 1, -1, -1, -1, -1, 1]': 0.0, '[1, -1, 1, -1, 1, 1, 1, -1]': 0.0, '[1, -1, 1, -1, 1, 1, -1, 1]': 0.0, '[1, -1, -1, 1, 1, 1, 1, -1]': 0.0, '[1, -1, -1, 1, 1, 1, -1, 1]': 0.0, '[1, -1, -1, 1, -1, -1, 1, -1]': 0.0, '[1, -1, -1, 1, -1, -1, -1, 1]': 0.0, '[1, -1, 1, -1, -1, -1, -1, 1]': 0.0, '[1, -1, 1, -1, -1, -1, 1, -1]': 0.0, '[-1, 1, 1, 1, -1, 1, -1, 1]': 0.0, '[-1, 1, -1, -1, 1, -1, 1, -1]': 0.0, '[1, -1, 1, 1, -1, 1, -1, 1]': 0.0, '[1, -1, -1, -1, 1, -1, 1, -1]': 0.0, '[1, -1, 1, 1, -1, 1, 1, -1]': 0.0, '[1, -1, -1, -1, 1, -1, -1, 1]': 0.0, '[-1, 1, 1, 1, -1, 1, 1, -1]': 0.0, '[1, 1, 1, -1, -1, 1, 1, -1]': 0.0, '[1, 1, -1, 1, -1, 1, 1, -1]': 0.0, '[1, 1, 1, -1, -1, 1, -1, 1]': 0.0, '[1, 1, -1, -1, 1, 1, -1, 1]': 0.0, '[1, 1, -1, -1, 1, 1, 1, -1]': 0.0, '[1, 1, -1, 1, -1, 1, -1, 1]': 0.0, '[-1, 1, -1, -1, 1, -1, -1, 1]': 0.0, '[-1, -1, -1, 1, 1, -1, -1, 1]': 0.0, '[-1, -1, 1, 1, -1, -1, -1, 1]': 0.0, '[-1, -1, 1, -1, 1, -1, 1, -1]': 0.0, '[-1, -1, 1, -1, 1, -1, -1, 1]': 0.0, '[-1, -1, 1, 1, -1, -1, 1, -1]': 0.0, '[-1, -1, -1, 1, 1, -1, 1, -1]': 0.0}\n"
     ]
    }
   ],
   "source": [
    "ecv_value_counts_percent = dict(df.ending_colour_vector.value_counts(normalize=True) * 100)\n",
    "for k, v in ecv_value_counts_percent.items():\n",
    "    ecv_value_counts_percent[k] = round(v, 1)\n",
    "\n",
    "print(ecv_value_counts_percent)"
   ],
   "metadata": {
    "collapsed": false,
    "pycharm": {
     "name": "#%%\n"
    }
   }
  },
  {
   "cell_type": "markdown",
   "source": [
    "# Saving the percent form as a new column for further visualisation"
   ],
   "metadata": {
    "collapsed": false
   }
  },
  {
   "cell_type": "code",
   "execution_count": 82,
   "outputs": [
    {
     "data": {
      "text/plain": "   Graph_number  Number_of_vertices      starting_colour_vector  \\\n0             1                   8    [1, 1, 1, 1, 1, 1, 1, 1]   \n1             1                   8   [1, 1, 1, 1, 1, 1, 1, -1]   \n2             1                   8   [1, 1, 1, 1, 1, 1, -1, 1]   \n3             1                   8  [1, 1, 1, 1, 1, 1, -1, -1]   \n4             1                   8   [1, 1, 1, 1, 1, -1, 1, 1]   \n\n       ending_colour_vector  step_time  cycle  percent_sp  \n0  [1, 1, 1, 1, 1, 1, 1, 1]          1      1         3.5  \n1  [1, 1, 1, 1, 1, 1, 1, 1]          2      1        44.9  \n2  [1, 1, 1, 1, 1, 1, 1, 1]          2      1        44.9  \n3  [1, 1, 1, 1, 1, 1, 1, 1]          2      1        44.9  \n4  [1, 1, 1, 1, 1, 1, 1, 1]          2      1        44.9  ",
      "text/html": "<div>\n<style scoped>\n    .dataframe tbody tr th:only-of-type {\n        vertical-align: middle;\n    }\n\n    .dataframe tbody tr th {\n        vertical-align: top;\n    }\n\n    .dataframe thead th {\n        text-align: right;\n    }\n</style>\n<table border=\"1\" class=\"dataframe\">\n  <thead>\n    <tr style=\"text-align: right;\">\n      <th></th>\n      <th>Graph_number</th>\n      <th>Number_of_vertices</th>\n      <th>starting_colour_vector</th>\n      <th>ending_colour_vector</th>\n      <th>step_time</th>\n      <th>cycle</th>\n      <th>percent_sp</th>\n    </tr>\n  </thead>\n  <tbody>\n    <tr>\n      <th>0</th>\n      <td>1</td>\n      <td>8</td>\n      <td>[1, 1, 1, 1, 1, 1, 1, 1]</td>\n      <td>[1, 1, 1, 1, 1, 1, 1, 1]</td>\n      <td>1</td>\n      <td>1</td>\n      <td>3.5</td>\n    </tr>\n    <tr>\n      <th>1</th>\n      <td>1</td>\n      <td>8</td>\n      <td>[1, 1, 1, 1, 1, 1, 1, -1]</td>\n      <td>[1, 1, 1, 1, 1, 1, 1, 1]</td>\n      <td>2</td>\n      <td>1</td>\n      <td>44.9</td>\n    </tr>\n    <tr>\n      <th>2</th>\n      <td>1</td>\n      <td>8</td>\n      <td>[1, 1, 1, 1, 1, 1, -1, 1]</td>\n      <td>[1, 1, 1, 1, 1, 1, 1, 1]</td>\n      <td>2</td>\n      <td>1</td>\n      <td>44.9</td>\n    </tr>\n    <tr>\n      <th>3</th>\n      <td>1</td>\n      <td>8</td>\n      <td>[1, 1, 1, 1, 1, 1, -1, -1]</td>\n      <td>[1, 1, 1, 1, 1, 1, 1, 1]</td>\n      <td>2</td>\n      <td>1</td>\n      <td>44.9</td>\n    </tr>\n    <tr>\n      <th>4</th>\n      <td>1</td>\n      <td>8</td>\n      <td>[1, 1, 1, 1, 1, -1, 1, 1]</td>\n      <td>[1, 1, 1, 1, 1, 1, 1, 1]</td>\n      <td>2</td>\n      <td>1</td>\n      <td>44.9</td>\n    </tr>\n  </tbody>\n</table>\n</div>"
     },
     "execution_count": 82,
     "metadata": {},
     "output_type": "execute_result"
    }
   ],
   "source": [
    "df['percent_sp'] = df['step_time'].map(step_time_value_counts_percent)\n",
    "df.head()"
   ],
   "metadata": {
    "collapsed": false,
    "pycharm": {
     "name": "#%%\n"
    }
   }
  },
  {
   "cell_type": "code",
   "execution_count": 83,
   "outputs": [
    {
     "data": {
      "text/plain": "   Graph_number  Number_of_vertices      starting_colour_vector  \\\n0             1                   8    [1, 1, 1, 1, 1, 1, 1, 1]   \n1             1                   8   [1, 1, 1, 1, 1, 1, 1, -1]   \n2             1                   8   [1, 1, 1, 1, 1, 1, -1, 1]   \n3             1                   8  [1, 1, 1, 1, 1, 1, -1, -1]   \n4             1                   8   [1, 1, 1, 1, 1, -1, 1, 1]   \n\n       ending_colour_vector  step_time  cycle  percent_sp  percent_cy  \n0  [1, 1, 1, 1, 1, 1, 1, 1]          1      1         3.5        95.7  \n1  [1, 1, 1, 1, 1, 1, 1, 1]          2      1        44.9        95.7  \n2  [1, 1, 1, 1, 1, 1, 1, 1]          2      1        44.9        95.7  \n3  [1, 1, 1, 1, 1, 1, 1, 1]          2      1        44.9        95.7  \n4  [1, 1, 1, 1, 1, 1, 1, 1]          2      1        44.9        95.7  ",
      "text/html": "<div>\n<style scoped>\n    .dataframe tbody tr th:only-of-type {\n        vertical-align: middle;\n    }\n\n    .dataframe tbody tr th {\n        vertical-align: top;\n    }\n\n    .dataframe thead th {\n        text-align: right;\n    }\n</style>\n<table border=\"1\" class=\"dataframe\">\n  <thead>\n    <tr style=\"text-align: right;\">\n      <th></th>\n      <th>Graph_number</th>\n      <th>Number_of_vertices</th>\n      <th>starting_colour_vector</th>\n      <th>ending_colour_vector</th>\n      <th>step_time</th>\n      <th>cycle</th>\n      <th>percent_sp</th>\n      <th>percent_cy</th>\n    </tr>\n  </thead>\n  <tbody>\n    <tr>\n      <th>0</th>\n      <td>1</td>\n      <td>8</td>\n      <td>[1, 1, 1, 1, 1, 1, 1, 1]</td>\n      <td>[1, 1, 1, 1, 1, 1, 1, 1]</td>\n      <td>1</td>\n      <td>1</td>\n      <td>3.5</td>\n      <td>95.7</td>\n    </tr>\n    <tr>\n      <th>1</th>\n      <td>1</td>\n      <td>8</td>\n      <td>[1, 1, 1, 1, 1, 1, 1, -1]</td>\n      <td>[1, 1, 1, 1, 1, 1, 1, 1]</td>\n      <td>2</td>\n      <td>1</td>\n      <td>44.9</td>\n      <td>95.7</td>\n    </tr>\n    <tr>\n      <th>2</th>\n      <td>1</td>\n      <td>8</td>\n      <td>[1, 1, 1, 1, 1, 1, -1, 1]</td>\n      <td>[1, 1, 1, 1, 1, 1, 1, 1]</td>\n      <td>2</td>\n      <td>1</td>\n      <td>44.9</td>\n      <td>95.7</td>\n    </tr>\n    <tr>\n      <th>3</th>\n      <td>1</td>\n      <td>8</td>\n      <td>[1, 1, 1, 1, 1, 1, -1, -1]</td>\n      <td>[1, 1, 1, 1, 1, 1, 1, 1]</td>\n      <td>2</td>\n      <td>1</td>\n      <td>44.9</td>\n      <td>95.7</td>\n    </tr>\n    <tr>\n      <th>4</th>\n      <td>1</td>\n      <td>8</td>\n      <td>[1, 1, 1, 1, 1, -1, 1, 1]</td>\n      <td>[1, 1, 1, 1, 1, 1, 1, 1]</td>\n      <td>2</td>\n      <td>1</td>\n      <td>44.9</td>\n      <td>95.7</td>\n    </tr>\n  </tbody>\n</table>\n</div>"
     },
     "execution_count": 83,
     "metadata": {},
     "output_type": "execute_result"
    }
   ],
   "source": [
    "df['percent_cy'] = df['cycle'].map(cycle_value_counts_percent)\n",
    "df.head()"
   ],
   "metadata": {
    "collapsed": false,
    "pycharm": {
     "name": "#%%\n"
    }
   }
  },
  {
   "cell_type": "code",
   "execution_count": 84,
   "outputs": [
    {
     "data": {
      "text/plain": "   Graph_number  Number_of_vertices      starting_colour_vector  \\\n0             1                   8    [1, 1, 1, 1, 1, 1, 1, 1]   \n1             1                   8   [1, 1, 1, 1, 1, 1, 1, -1]   \n2             1                   8   [1, 1, 1, 1, 1, 1, -1, 1]   \n3             1                   8  [1, 1, 1, 1, 1, 1, -1, -1]   \n4             1                   8   [1, 1, 1, 1, 1, -1, 1, 1]   \n\n       ending_colour_vector  step_time  cycle  percent_sp  percent_cy  \\\n0  [1, 1, 1, 1, 1, 1, 1, 1]          1      1         3.5        95.7   \n1  [1, 1, 1, 1, 1, 1, 1, 1]          2      1        44.9        95.7   \n2  [1, 1, 1, 1, 1, 1, 1, 1]          2      1        44.9        95.7   \n3  [1, 1, 1, 1, 1, 1, 1, 1]          2      1        44.9        95.7   \n4  [1, 1, 1, 1, 1, 1, 1, 1]          2      1        44.9        95.7   \n\n   percent_scv  \n0      0.78125  \n1      0.78125  \n2      0.78125  \n3      0.78125  \n4      0.78125  ",
      "text/html": "<div>\n<style scoped>\n    .dataframe tbody tr th:only-of-type {\n        vertical-align: middle;\n    }\n\n    .dataframe tbody tr th {\n        vertical-align: top;\n    }\n\n    .dataframe thead th {\n        text-align: right;\n    }\n</style>\n<table border=\"1\" class=\"dataframe\">\n  <thead>\n    <tr style=\"text-align: right;\">\n      <th></th>\n      <th>Graph_number</th>\n      <th>Number_of_vertices</th>\n      <th>starting_colour_vector</th>\n      <th>ending_colour_vector</th>\n      <th>step_time</th>\n      <th>cycle</th>\n      <th>percent_sp</th>\n      <th>percent_cy</th>\n      <th>percent_scv</th>\n    </tr>\n  </thead>\n  <tbody>\n    <tr>\n      <th>0</th>\n      <td>1</td>\n      <td>8</td>\n      <td>[1, 1, 1, 1, 1, 1, 1, 1]</td>\n      <td>[1, 1, 1, 1, 1, 1, 1, 1]</td>\n      <td>1</td>\n      <td>1</td>\n      <td>3.5</td>\n      <td>95.7</td>\n      <td>0.78125</td>\n    </tr>\n    <tr>\n      <th>1</th>\n      <td>1</td>\n      <td>8</td>\n      <td>[1, 1, 1, 1, 1, 1, 1, -1]</td>\n      <td>[1, 1, 1, 1, 1, 1, 1, 1]</td>\n      <td>2</td>\n      <td>1</td>\n      <td>44.9</td>\n      <td>95.7</td>\n      <td>0.78125</td>\n    </tr>\n    <tr>\n      <th>2</th>\n      <td>1</td>\n      <td>8</td>\n      <td>[1, 1, 1, 1, 1, 1, -1, 1]</td>\n      <td>[1, 1, 1, 1, 1, 1, 1, 1]</td>\n      <td>2</td>\n      <td>1</td>\n      <td>44.9</td>\n      <td>95.7</td>\n      <td>0.78125</td>\n    </tr>\n    <tr>\n      <th>3</th>\n      <td>1</td>\n      <td>8</td>\n      <td>[1, 1, 1, 1, 1, 1, -1, -1]</td>\n      <td>[1, 1, 1, 1, 1, 1, 1, 1]</td>\n      <td>2</td>\n      <td>1</td>\n      <td>44.9</td>\n      <td>95.7</td>\n      <td>0.78125</td>\n    </tr>\n    <tr>\n      <th>4</th>\n      <td>1</td>\n      <td>8</td>\n      <td>[1, 1, 1, 1, 1, -1, 1, 1]</td>\n      <td>[1, 1, 1, 1, 1, 1, 1, 1]</td>\n      <td>2</td>\n      <td>1</td>\n      <td>44.9</td>\n      <td>95.7</td>\n      <td>0.78125</td>\n    </tr>\n  </tbody>\n</table>\n</div>"
     },
     "execution_count": 84,
     "metadata": {},
     "output_type": "execute_result"
    }
   ],
   "source": [
    "df['percent_scv'] = df['starting_colour_vector'].map(scv_value_counts_percent)\n",
    "df.head()"
   ],
   "metadata": {
    "collapsed": false,
    "pycharm": {
     "name": "#%%\n"
    }
   }
  },
  {
   "cell_type": "code",
   "execution_count": 85,
   "outputs": [
    {
     "data": {
      "text/plain": "   Graph_number  Number_of_vertices      starting_colour_vector  \\\n0             1                   8    [1, 1, 1, 1, 1, 1, 1, 1]   \n1             1                   8   [1, 1, 1, 1, 1, 1, 1, -1]   \n2             1                   8   [1, 1, 1, 1, 1, 1, -1, 1]   \n3             1                   8  [1, 1, 1, 1, 1, 1, -1, -1]   \n4             1                   8   [1, 1, 1, 1, 1, -1, 1, 1]   \n\n       ending_colour_vector  step_time  cycle  percent_sp  percent_cy  \\\n0  [1, 1, 1, 1, 1, 1, 1, 1]          1      1         3.5        95.7   \n1  [1, 1, 1, 1, 1, 1, 1, 1]          2      1        44.9        95.7   \n2  [1, 1, 1, 1, 1, 1, 1, 1]          2      1        44.9        95.7   \n3  [1, 1, 1, 1, 1, 1, 1, 1]          2      1        44.9        95.7   \n4  [1, 1, 1, 1, 1, 1, 1, 1]          2      1        44.9        95.7   \n\n   percent_scv  percent_ecv  \n0      0.78125         63.8  \n1      0.78125         63.8  \n2      0.78125         63.8  \n3      0.78125         63.8  \n4      0.78125         63.8  ",
      "text/html": "<div>\n<style scoped>\n    .dataframe tbody tr th:only-of-type {\n        vertical-align: middle;\n    }\n\n    .dataframe tbody tr th {\n        vertical-align: top;\n    }\n\n    .dataframe thead th {\n        text-align: right;\n    }\n</style>\n<table border=\"1\" class=\"dataframe\">\n  <thead>\n    <tr style=\"text-align: right;\">\n      <th></th>\n      <th>Graph_number</th>\n      <th>Number_of_vertices</th>\n      <th>starting_colour_vector</th>\n      <th>ending_colour_vector</th>\n      <th>step_time</th>\n      <th>cycle</th>\n      <th>percent_sp</th>\n      <th>percent_cy</th>\n      <th>percent_scv</th>\n      <th>percent_ecv</th>\n    </tr>\n  </thead>\n  <tbody>\n    <tr>\n      <th>0</th>\n      <td>1</td>\n      <td>8</td>\n      <td>[1, 1, 1, 1, 1, 1, 1, 1]</td>\n      <td>[1, 1, 1, 1, 1, 1, 1, 1]</td>\n      <td>1</td>\n      <td>1</td>\n      <td>3.5</td>\n      <td>95.7</td>\n      <td>0.78125</td>\n      <td>63.8</td>\n    </tr>\n    <tr>\n      <th>1</th>\n      <td>1</td>\n      <td>8</td>\n      <td>[1, 1, 1, 1, 1, 1, 1, -1]</td>\n      <td>[1, 1, 1, 1, 1, 1, 1, 1]</td>\n      <td>2</td>\n      <td>1</td>\n      <td>44.9</td>\n      <td>95.7</td>\n      <td>0.78125</td>\n      <td>63.8</td>\n    </tr>\n    <tr>\n      <th>2</th>\n      <td>1</td>\n      <td>8</td>\n      <td>[1, 1, 1, 1, 1, 1, -1, 1]</td>\n      <td>[1, 1, 1, 1, 1, 1, 1, 1]</td>\n      <td>2</td>\n      <td>1</td>\n      <td>44.9</td>\n      <td>95.7</td>\n      <td>0.78125</td>\n      <td>63.8</td>\n    </tr>\n    <tr>\n      <th>3</th>\n      <td>1</td>\n      <td>8</td>\n      <td>[1, 1, 1, 1, 1, 1, -1, -1]</td>\n      <td>[1, 1, 1, 1, 1, 1, 1, 1]</td>\n      <td>2</td>\n      <td>1</td>\n      <td>44.9</td>\n      <td>95.7</td>\n      <td>0.78125</td>\n      <td>63.8</td>\n    </tr>\n    <tr>\n      <th>4</th>\n      <td>1</td>\n      <td>8</td>\n      <td>[1, 1, 1, 1, 1, -1, 1, 1]</td>\n      <td>[1, 1, 1, 1, 1, 1, 1, 1]</td>\n      <td>2</td>\n      <td>1</td>\n      <td>44.9</td>\n      <td>95.7</td>\n      <td>0.78125</td>\n      <td>63.8</td>\n    </tr>\n  </tbody>\n</table>\n</div>"
     },
     "execution_count": 85,
     "metadata": {},
     "output_type": "execute_result"
    }
   ],
   "source": [
    "df['percent_ecv'] = df['ending_colour_vector'].map(ecv_value_counts_percent)\n",
    "df.head()"
   ],
   "metadata": {
    "collapsed": false,
    "pycharm": {
     "name": "#%%\n"
    }
   }
  },
  {
   "cell_type": "markdown",
   "source": [
    "# Setting plotting style"
   ],
   "metadata": {
    "collapsed": false
   }
  },
  {
   "cell_type": "code",
   "execution_count": 86,
   "outputs": [
    {
     "data": {
      "text/plain": "<Figure size 432x288 with 0 Axes>"
     },
     "metadata": {},
     "output_type": "display_data"
    }
   ],
   "source": [
    "sns.set_style(\"dark\")\n",
    "sns.despine()"
   ],
   "metadata": {
    "collapsed": false,
    "pycharm": {
     "name": "#%%\n"
    }
   }
  },
  {
   "cell_type": "markdown",
   "source": [
    "# Bar plot for variable step_time"
   ],
   "metadata": {
    "collapsed": false
   }
  },
  {
   "cell_type": "code",
   "execution_count": 87,
   "outputs": [
    {
     "data": {
      "text/plain": "Text(0, 0.5, 'percentage')"
     },
     "execution_count": 87,
     "metadata": {},
     "output_type": "execute_result"
    },
    {
     "data": {
      "text/plain": "<Figure size 432x288 with 1 Axes>",
      "image/png": "[encoded data removed]"
     },
     "metadata": {},
     "output_type": "display_data"
    }
   ],
   "source": [
    "bar = sns.barplot(x=df['step_time'], y=df['percent_sp'], data=df)\n",
    "bar.set(ylim=(0, 100))\n",
    "bar.set_xlabel('step time for v = {}'.format(n))\n",
    "bar.set_ylabel('percentage')"
   ],
   "metadata": {
    "collapsed": false,
    "pycharm": {
     "name": "#%%\n"
    }
   }
  },
  {
   "cell_type": "markdown",
   "source": [
    "# Bar plot for variable cycle"
   ],
   "metadata": {
    "collapsed": false
   }
  },
  {
   "cell_type": "code",
   "execution_count": 88,
   "outputs": [
    {
     "data": {
      "text/plain": "Text(0, 0.5, 'percentage')"
     },
     "execution_count": 88,
     "metadata": {},
     "output_type": "execute_result"
    },
    {
     "data": {
      "text/plain": "<Figure size 432x288 with 1 Axes>",
      "image/png": "[encoded data removed]"
     },
     "metadata": {},
     "output_type": "display_data"
    }
   ],
   "source": [
    "bar = sns.barplot(x=df['cycle'], y=df['percent_cy'], data=df)\n",
    "bar.set(ylim=(0, 100))\n",
    "bar.set_xlabel('cycle for v = {}'.format(n))\n",
    "bar.set_ylabel('percentage')"
   ],
   "metadata": {
    "collapsed": false,
    "pycharm": {
     "name": "#%%\n"
    }
   }
  },
  {
   "cell_type": "markdown",
   "source": [
    "# Bar plot for variable starting colour vector"
   ],
   "metadata": {
    "collapsed": false
   }
  },
  {
   "cell_type": "code",
   "execution_count": 89,
   "outputs": [
    {
     "data": {
      "text/plain": "Text(0, 0.5, 'percentage')"
     },
     "execution_count": 89,
     "metadata": {},
     "output_type": "execute_result"
    },
    {
     "data": {
      "text/plain": "<Figure size 432x288 with 1 Axes>",
      "image/png": "[encoded data removed]"
     },
     "metadata": {},
     "output_type": "display_data"
    }
   ],
   "source": [
    "bar = sns.barplot(x=df['starting_colour_vector'], y=df['percent_scv'], data=df)\n",
    "bar.set(ylim=(0, 100))\n",
    "bar.set_xlabel('scv for v = {}'.format(n))\n",
    "bar.set_ylabel('percentage')"
   ],
   "metadata": {
    "collapsed": false,
    "pycharm": {
     "name": "#%%\n"
    }
   }
  },
  {
   "cell_type": "markdown",
   "source": [
    "# Bar plot for variable ending colour vector"
   ],
   "metadata": {
    "collapsed": false
   }
  },
  {
   "cell_type": "code",
   "execution_count": 90,
   "outputs": [
    {
     "data": {
      "text/plain": "Text(0, 0.5, 'percentage')"
     },
     "execution_count": 90,
     "metadata": {},
     "output_type": "execute_result"
    },
    {
     "data": {
      "text/plain": "<Figure size 432x288 with 1 Axes>",
      "image/png": "[encoded data removed]"
     },
     "metadata": {},
     "output_type": "display_data"
    }
   ],
   "source": [
    "bar = sns.barplot(x=df['ending_colour_vector'], y=df['percent_ecv'], data=df)\n",
    "bar.set(ylim=(0, 100))\n",
    "bar.set_xlabel('ecv for v = {}'.format(n))\n",
    "bar.set_ylabel('percentage')"
   ],
   "metadata": {
    "collapsed": false,
    "pycharm": {
     "name": "#%%\n"
    }
   }
  },
  {
   "cell_type": "markdown",
   "source": [
    "# Variance, Mean, Skew and Kurtosis analysis for the following columns"
   ],
   "metadata": {
    "collapsed": false
   }
  },
  {
   "cell_type": "markdown",
   "source": [
    "## Step_time"
   ],
   "metadata": {
    "collapsed": false
   }
  },
  {
   "cell_type": "code",
   "execution_count": 91,
   "outputs": [
    {
     "name": "stderr",
     "output_type": "stream",
     "text": [
      "C:\\Users\\sansk\\anaconda3\\envs\\dataSci\\lib\\site-packages\\seaborn\\distributions.py:2619: FutureWarning: `distplot` is a deprecated function and will be removed in a future version. Please adapt your code to use either `displot` (a figure-level function with similar flexibility) or `histplot` (an axes-level function for histograms).\n",
      "  warnings.warn(msg, FutureWarning)\n"
     ]
    },
    {
     "name": "stdout",
     "output_type": "stream",
     "text": [
      "mean :  33.13592597807722\n",
      "var  :  185.51078140599677\n",
      "skew :  -0.9434349137931636\n",
      "kurt :  -0.36375053086350917\n"
     ]
    },
    {
     "data": {
      "text/plain": "<Figure size 432x288 with 1 Axes>",
      "image/png": "[encoded data removed]"
     },
     "metadata": {},
     "output_type": "display_data"
    }
   ],
   "source": [
    "var = np.var(df['percent_sp'])\n",
    "mean = df['percent_sp'].mean()\n",
    "sns.distplot(df['percent_sp'], bins=20)\n",
    "\n",
    "\n",
    "print(\"mean : \", mean)\n",
    "print(\"var  : \", var)\n",
    "print(\"skew : \",skew(df['percent_sp']))\n",
    "print(\"kurt : \",kurtosis(df['percent_sp']))"
   ],
   "metadata": {
    "collapsed": false,
    "pycharm": {
     "name": "#%%\n"
    }
   }
  },
  {
   "cell_type": "markdown",
   "source": [
    "## Cycle"
   ],
   "metadata": {
    "collapsed": false
   }
  },
  {
   "cell_type": "code",
   "execution_count": 92,
   "outputs": [
    {
     "name": "stderr",
     "output_type": "stream",
     "text": [
      "C:\\Users\\sansk\\anaconda3\\envs\\dataSci\\lib\\site-packages\\seaborn\\distributions.py:2619: FutureWarning: `distplot` is a deprecated function and will be removed in a future version. Please adapt your code to use either `displot` (a figure-level function with similar flexibility) or `histplot` (an axes-level function for histograms).\n",
      "  warnings.warn(msg, FutureWarning)\n"
     ]
    },
    {
     "ename": "KeyboardInterrupt",
     "evalue": "",
     "output_type": "error",
     "traceback": [
      "\u001B[1;31m---------------------------------------------------------------------------\u001B[0m",
      "\u001B[1;31mKeyboardInterrupt\u001B[0m                         Traceback (most recent call last)",
      "Input \u001B[1;32mIn [92]\u001B[0m, in \u001B[0;36m<cell line: 3>\u001B[1;34m()\u001B[0m\n\u001B[0;32m      1\u001B[0m var \u001B[38;5;241m=\u001B[39m np\u001B[38;5;241m.\u001B[39mvar(df[\u001B[38;5;124m'\u001B[39m\u001B[38;5;124mpercent_cy\u001B[39m\u001B[38;5;124m'\u001B[39m])\n\u001B[0;32m      2\u001B[0m mean \u001B[38;5;241m=\u001B[39m df[\u001B[38;5;124m'\u001B[39m\u001B[38;5;124mpercent_cy\u001B[39m\u001B[38;5;124m'\u001B[39m]\u001B[38;5;241m.\u001B[39mmean()\n\u001B[1;32m----> 3\u001B[0m \u001B[43msns\u001B[49m\u001B[38;5;241;43m.\u001B[39;49m\u001B[43mdistplot\u001B[49m\u001B[43m(\u001B[49m\u001B[43mdf\u001B[49m\u001B[43m[\u001B[49m\u001B[38;5;124;43m'\u001B[39;49m\u001B[38;5;124;43mpercent_cy\u001B[39;49m\u001B[38;5;124;43m'\u001B[39;49m\u001B[43m]\u001B[49m\u001B[43m,\u001B[49m\u001B[43m \u001B[49m\u001B[43mbins\u001B[49m\u001B[38;5;241;43m=\u001B[39;49m\u001B[38;5;241;43m20\u001B[39;49m\u001B[43m)\u001B[49m\n\u001B[0;32m      6\u001B[0m \u001B[38;5;28mprint\u001B[39m(\u001B[38;5;124m\"\u001B[39m\u001B[38;5;124mmean : \u001B[39m\u001B[38;5;124m\"\u001B[39m, mean)\n\u001B[0;32m      7\u001B[0m \u001B[38;5;28mprint\u001B[39m(\u001B[38;5;124m\"\u001B[39m\u001B[38;5;124mvar  : \u001B[39m\u001B[38;5;124m\"\u001B[39m, var)\n",
      "File \u001B[1;32m~\\anaconda3\\envs\\dataSci\\lib\\site-packages\\seaborn\\distributions.py:2687\u001B[0m, in \u001B[0;36mdistplot\u001B[1;34m(a, bins, hist, kde, rug, fit, hist_kws, kde_kws, rug_kws, fit_kws, color, vertical, norm_hist, axlabel, label, ax, x)\u001B[0m\n\u001B[0;32m   2685\u001B[0m \u001B[38;5;28;01mif\u001B[39;00m kde:\n\u001B[0;32m   2686\u001B[0m     kde_color \u001B[38;5;241m=\u001B[39m kde_kws\u001B[38;5;241m.\u001B[39mpop(\u001B[38;5;124m\"\u001B[39m\u001B[38;5;124mcolor\u001B[39m\u001B[38;5;124m\"\u001B[39m, color)\n\u001B[1;32m-> 2687\u001B[0m     kdeplot(a, vertical\u001B[38;5;241m=\u001B[39mvertical, ax\u001B[38;5;241m=\u001B[39max, color\u001B[38;5;241m=\u001B[39mkde_color, \u001B[38;5;241m*\u001B[39m\u001B[38;5;241m*\u001B[39mkde_kws)\n\u001B[0;32m   2688\u001B[0m     \u001B[38;5;28;01mif\u001B[39;00m kde_color \u001B[38;5;241m!=\u001B[39m color:\n\u001B[0;32m   2689\u001B[0m         kde_kws[\u001B[38;5;124m\"\u001B[39m\u001B[38;5;124mcolor\u001B[39m\u001B[38;5;124m\"\u001B[39m] \u001B[38;5;241m=\u001B[39m kde_color\n",
      "File \u001B[1;32m~\\anaconda3\\envs\\dataSci\\lib\\site-packages\\seaborn\\_decorators.py:46\u001B[0m, in \u001B[0;36m_deprecate_positional_args.<locals>.inner_f\u001B[1;34m(*args, **kwargs)\u001B[0m\n\u001B[0;32m     36\u001B[0m     warnings\u001B[38;5;241m.\u001B[39mwarn(\n\u001B[0;32m     37\u001B[0m         \u001B[38;5;124m\"\u001B[39m\u001B[38;5;124mPass the following variable\u001B[39m\u001B[38;5;132;01m{}\u001B[39;00m\u001B[38;5;124m as \u001B[39m\u001B[38;5;132;01m{}\u001B[39;00m\u001B[38;5;124mkeyword arg\u001B[39m\u001B[38;5;132;01m{}\u001B[39;00m\u001B[38;5;124m: \u001B[39m\u001B[38;5;132;01m{}\u001B[39;00m\u001B[38;5;124m. \u001B[39m\u001B[38;5;124m\"\u001B[39m\n\u001B[0;32m     38\u001B[0m         \u001B[38;5;124m\"\u001B[39m\u001B[38;5;124mFrom version 0.12, the only valid positional argument \u001B[39m\u001B[38;5;124m\"\u001B[39m\n\u001B[1;32m   (...)\u001B[0m\n\u001B[0;32m     43\u001B[0m         \u001B[38;5;167;01mFutureWarning\u001B[39;00m\n\u001B[0;32m     44\u001B[0m     )\n\u001B[0;32m     45\u001B[0m kwargs\u001B[38;5;241m.\u001B[39mupdate({k: arg \u001B[38;5;28;01mfor\u001B[39;00m k, arg \u001B[38;5;129;01min\u001B[39;00m \u001B[38;5;28mzip\u001B[39m(sig\u001B[38;5;241m.\u001B[39mparameters, args)})\n\u001B[1;32m---> 46\u001B[0m \u001B[38;5;28;01mreturn\u001B[39;00m f(\u001B[38;5;241m*\u001B[39m\u001B[38;5;241m*\u001B[39mkwargs)\n",
      "File \u001B[1;32m~\\anaconda3\\envs\\dataSci\\lib\\site-packages\\seaborn\\distributions.py:1770\u001B[0m, in \u001B[0;36mkdeplot\u001B[1;34m(x, y, shade, vertical, kernel, bw, gridsize, cut, clip, legend, cumulative, shade_lowest, cbar, cbar_ax, cbar_kws, ax, weights, hue, palette, hue_order, hue_norm, multiple, common_norm, common_grid, levels, thresh, bw_method, bw_adjust, log_scale, color, fill, data, data2, warn_singular, **kwargs)\u001B[0m\n\u001B[0;32m   1767\u001B[0m     \u001B[38;5;28;01mif\u001B[39;00m color \u001B[38;5;129;01mis\u001B[39;00m \u001B[38;5;129;01mnot\u001B[39;00m \u001B[38;5;28;01mNone\u001B[39;00m:\n\u001B[0;32m   1768\u001B[0m         plot_kws[\u001B[38;5;124m\"\u001B[39m\u001B[38;5;124mcolor\u001B[39m\u001B[38;5;124m\"\u001B[39m] \u001B[38;5;241m=\u001B[39m color\n\u001B[1;32m-> 1770\u001B[0m     p\u001B[38;5;241m.\u001B[39mplot_univariate_density(\n\u001B[0;32m   1771\u001B[0m         multiple\u001B[38;5;241m=\u001B[39mmultiple,\n\u001B[0;32m   1772\u001B[0m         common_norm\u001B[38;5;241m=\u001B[39mcommon_norm,\n\u001B[0;32m   1773\u001B[0m         common_grid\u001B[38;5;241m=\u001B[39mcommon_grid,\n\u001B[0;32m   1774\u001B[0m         fill\u001B[38;5;241m=\u001B[39mfill,\n\u001B[0;32m   1775\u001B[0m         legend\u001B[38;5;241m=\u001B[39mlegend,\n\u001B[0;32m   1776\u001B[0m         warn_singular\u001B[38;5;241m=\u001B[39mwarn_singular,\n\u001B[0;32m   1777\u001B[0m         estimate_kws\u001B[38;5;241m=\u001B[39mestimate_kws,\n\u001B[0;32m   1778\u001B[0m         \u001B[38;5;241m*\u001B[39m\u001B[38;5;241m*\u001B[39mplot_kws,\n\u001B[0;32m   1779\u001B[0m     )\n\u001B[0;32m   1781\u001B[0m \u001B[38;5;28;01melse\u001B[39;00m:\n\u001B[0;32m   1783\u001B[0m     p\u001B[38;5;241m.\u001B[39mplot_bivariate_density(\n\u001B[0;32m   1784\u001B[0m         common_norm\u001B[38;5;241m=\u001B[39mcommon_norm,\n\u001B[0;32m   1785\u001B[0m         fill\u001B[38;5;241m=\u001B[39mfill,\n\u001B[1;32m   (...)\u001B[0m\n\u001B[0;32m   1795\u001B[0m         \u001B[38;5;241m*\u001B[39m\u001B[38;5;241m*\u001B[39mkwargs,\n\u001B[0;32m   1796\u001B[0m     )\n",
      "File \u001B[1;32m~\\anaconda3\\envs\\dataSci\\lib\\site-packages\\seaborn\\distributions.py:928\u001B[0m, in \u001B[0;36m_DistributionPlotter.plot_univariate_density\u001B[1;34m(self, multiple, common_norm, common_grid, warn_singular, fill, legend, estimate_kws, **plot_kws)\u001B[0m\n\u001B[0;32m    925\u001B[0m log_scale \u001B[38;5;241m=\u001B[39m \u001B[38;5;28mself\u001B[39m\u001B[38;5;241m.\u001B[39m_log_scaled(\u001B[38;5;28mself\u001B[39m\u001B[38;5;241m.\u001B[39mdata_variable)\n\u001B[0;32m    927\u001B[0m \u001B[38;5;66;03m# Do the computation\u001B[39;00m\n\u001B[1;32m--> 928\u001B[0m densities \u001B[38;5;241m=\u001B[39m \u001B[38;5;28;43mself\u001B[39;49m\u001B[38;5;241;43m.\u001B[39;49m\u001B[43m_compute_univariate_density\u001B[49m\u001B[43m(\u001B[49m\n\u001B[0;32m    929\u001B[0m \u001B[43m    \u001B[49m\u001B[38;5;28;43mself\u001B[39;49m\u001B[38;5;241;43m.\u001B[39;49m\u001B[43mdata_variable\u001B[49m\u001B[43m,\u001B[49m\n\u001B[0;32m    930\u001B[0m \u001B[43m    \u001B[49m\u001B[43mcommon_norm\u001B[49m\u001B[43m,\u001B[49m\n\u001B[0;32m    931\u001B[0m \u001B[43m    \u001B[49m\u001B[43mcommon_grid\u001B[49m\u001B[43m,\u001B[49m\n\u001B[0;32m    932\u001B[0m \u001B[43m    \u001B[49m\u001B[43mestimate_kws\u001B[49m\u001B[43m,\u001B[49m\n\u001B[0;32m    933\u001B[0m \u001B[43m    \u001B[49m\u001B[43mlog_scale\u001B[49m\u001B[43m,\u001B[49m\n\u001B[0;32m    934\u001B[0m \u001B[43m    \u001B[49m\u001B[43mwarn_singular\u001B[49m\u001B[43m,\u001B[49m\n\u001B[0;32m    935\u001B[0m \u001B[43m\u001B[49m\u001B[43m)\u001B[49m\n\u001B[0;32m    937\u001B[0m \u001B[38;5;66;03m# Adjust densities based on the `multiple` rule\u001B[39;00m\n\u001B[0;32m    938\u001B[0m densities, baselines \u001B[38;5;241m=\u001B[39m \u001B[38;5;28mself\u001B[39m\u001B[38;5;241m.\u001B[39m_resolve_multiple(densities, multiple)\n",
      "File \u001B[1;32m~\\anaconda3\\envs\\dataSci\\lib\\site-packages\\seaborn\\distributions.py:326\u001B[0m, in \u001B[0;36m_DistributionPlotter._compute_univariate_density\u001B[1;34m(self, data_variable, common_norm, common_grid, estimate_kws, log_scale, warn_singular)\u001B[0m\n\u001B[0;32m    323\u001B[0m     weights \u001B[38;5;241m=\u001B[39m \u001B[38;5;28;01mNone\u001B[39;00m\n\u001B[0;32m    325\u001B[0m \u001B[38;5;66;03m# Estimate the density of observations at this level\u001B[39;00m\n\u001B[1;32m--> 326\u001B[0m density, support \u001B[38;5;241m=\u001B[39m \u001B[43mestimator\u001B[49m\u001B[43m(\u001B[49m\u001B[43mobservations\u001B[49m\u001B[43m,\u001B[49m\u001B[43m \u001B[49m\u001B[43mweights\u001B[49m\u001B[38;5;241;43m=\u001B[39;49m\u001B[43mweights\u001B[49m\u001B[43m)\u001B[49m\n\u001B[0;32m    328\u001B[0m \u001B[38;5;28;01mif\u001B[39;00m log_scale:\n\u001B[0;32m    329\u001B[0m     support \u001B[38;5;241m=\u001B[39m np\u001B[38;5;241m.\u001B[39mpower(\u001B[38;5;241m10\u001B[39m, support)\n",
      "File \u001B[1;32m~\\anaconda3\\envs\\dataSci\\lib\\site-packages\\seaborn\\_statistics.py:187\u001B[0m, in \u001B[0;36mKDE.__call__\u001B[1;34m(self, x1, x2, weights)\u001B[0m\n\u001B[0;32m    185\u001B[0m \u001B[38;5;124;03m\"\"\"Fit and evaluate on univariate or bivariate data.\"\"\"\u001B[39;00m\n\u001B[0;32m    186\u001B[0m \u001B[38;5;28;01mif\u001B[39;00m x2 \u001B[38;5;129;01mis\u001B[39;00m \u001B[38;5;28;01mNone\u001B[39;00m:\n\u001B[1;32m--> 187\u001B[0m     \u001B[38;5;28;01mreturn\u001B[39;00m \u001B[38;5;28;43mself\u001B[39;49m\u001B[38;5;241;43m.\u001B[39;49m\u001B[43m_eval_univariate\u001B[49m\u001B[43m(\u001B[49m\u001B[43mx1\u001B[49m\u001B[43m,\u001B[49m\u001B[43m \u001B[49m\u001B[43mweights\u001B[49m\u001B[43m)\u001B[49m\n\u001B[0;32m    188\u001B[0m \u001B[38;5;28;01melse\u001B[39;00m:\n\u001B[0;32m    189\u001B[0m     \u001B[38;5;28;01mreturn\u001B[39;00m \u001B[38;5;28mself\u001B[39m\u001B[38;5;241m.\u001B[39m_eval_bivariate(x1, x2, weights)\n",
      "File \u001B[1;32m~\\anaconda3\\envs\\dataSci\\lib\\site-packages\\seaborn\\_statistics.py:156\u001B[0m, in \u001B[0;36mKDE._eval_univariate\u001B[1;34m(self, x, weights)\u001B[0m\n\u001B[0;32m    152\u001B[0m     density \u001B[38;5;241m=\u001B[39m np\u001B[38;5;241m.\u001B[39marray([\n\u001B[0;32m    153\u001B[0m         kde\u001B[38;5;241m.\u001B[39mintegrate_box_1d(s_0, s_i) \u001B[38;5;28;01mfor\u001B[39;00m s_i \u001B[38;5;129;01min\u001B[39;00m support\n\u001B[0;32m    154\u001B[0m     ])\n\u001B[0;32m    155\u001B[0m \u001B[38;5;28;01melse\u001B[39;00m:\n\u001B[1;32m--> 156\u001B[0m     density \u001B[38;5;241m=\u001B[39m \u001B[43mkde\u001B[49m\u001B[43m(\u001B[49m\u001B[43msupport\u001B[49m\u001B[43m)\u001B[49m\n\u001B[0;32m    158\u001B[0m \u001B[38;5;28;01mreturn\u001B[39;00m density, support\n",
      "\u001B[1;31mKeyboardInterrupt\u001B[0m: "
     ]
    },
    {
     "data": {
      "text/plain": "<Figure size 432x288 with 1 Axes>",
      "image/png": "[encoded data removed]"
     },
     "metadata": {},
     "output_type": "display_data"
    }
   ],
   "source": [
    "var = np.var(df['percent_cy'])\n",
    "mean = df['percent_cy'].mean()\n",
    "sns.distplot(df['percent_cy'], bins=20)\n",
    "\n",
    "\n",
    "print(\"mean : \", mean)\n",
    "print(\"var  : \", var)\n",
    "print(\"skew : \",skew(df['percent_cy']))\n",
    "print(\"kurt : \",kurtosis(df['percent_cy']))"
   ],
   "metadata": {
    "collapsed": false,
    "pycharm": {
     "name": "#%%\n"
    }
   }
  },
  {
   "cell_type": "markdown",
   "source": [
    "## Starting colour vector"
   ],
   "metadata": {
    "collapsed": false
   }
  },
  {
   "cell_type": "code",
   "execution_count": null,
   "outputs": [],
   "source": [
    "var = np.var(df['percent_scv'])\n",
    "mean = df['percent_scv'].mean()\n",
    "sns.distplot(df['percent_scv'], bins=20)\n",
    "\n",
    "\n",
    "print(\"mean : \", mean)\n",
    "print(\"var  : \", var)\n",
    "print(\"skew : \",skew(df['percent_scv']))\n",
    "print(\"kurt : \",kurtosis(df['percent_scv']))"
   ],
   "metadata": {
    "collapsed": false,
    "pycharm": {
     "name": "#%%\n"
    }
   }
  },
  {
   "cell_type": "markdown",
   "source": [
    "## Ending colour vector"
   ],
   "metadata": {
    "collapsed": false
   }
  },
  {
   "cell_type": "code",
   "execution_count": null,
   "outputs": [],
   "source": [
    "var = np.var(df['percent_ecv'])\n",
    "mean = df['percent_ecv'].mean()\n",
    "sns.distplot(df['percent_ecv'], bins=20)\n",
    "\n",
    "\n",
    "print(\"mean : \", mean)\n",
    "print(\"var  : \", var)\n",
    "print(\"skew : \",skew(df['percent_ecv']))\n",
    "print(\"kurt : \",kurtosis(df['percent_ecv']))"
   ],
   "metadata": {
    "collapsed": false,
    "pycharm": {
     "name": "#%%\n"
    }
   }
  }
 ],
 "metadata": {
  "kernelspec": {
   "display_name": "Python 3",
   "language": "python",
   "name": "python3"
  },
  "language_info": {
   "codemirror_mode": {
    "name": "ipython",
    "version": 2
   },
   "file_extension": ".py",
   "mimetype": "text/x-python",
   "name": "python",
   "nbconvert_exporter": "python",
   "pygments_lexer": "ipython2",
   "version": "2.7.6"
  }
 },
 "nbformat": 4,
 "nbformat_minor": 0
}