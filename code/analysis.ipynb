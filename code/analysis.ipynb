{
 "cells": [
  {
   "cell_type": "markdown",
   "source": [
    "essential imports for the project"
   ],
   "metadata": {
    "collapsed": false
   }
  },
  {
   "cell_type": "code",
   "execution_count": 129,
   "metadata": {
    "collapsed": true
   },
   "outputs": [],
   "source": [
    "import pandas as pd\n",
    "import seaborn as sns\n",
    "import numpy as np\n",
    "from matplotlib import pyplot as plt\n",
    "from scipy.stats import kurtosis, skew"
   ]
  },
  {
   "cell_type": "markdown",
   "source": [
    "reading in the file "
   ],
   "metadata": {
    "collapsed": false
   }
  },
  {
   "cell_type": "code",
   "execution_count": 89,
   "outputs": [],
   "source": [
    "df = pd.read_csv('..//output//final.csv')"
   ],
   "metadata": {
    "collapsed": false,
    "pycharm": {
     "name": "#%%\n"
    }
   }
  },
  {
   "cell_type": "markdown",
   "source": [
    "exploring the data"
   ],
   "metadata": {
    "collapsed": false
   }
  },
  {
   "cell_type": "code",
   "execution_count": 90,
   "outputs": [
    {
     "data": {
      "text/plain": "   Graph_number  Number_of_vertices starting_colour_vertex  \\\n0             1                   2                 [1, 1]   \n1             1                   2                [1, -1]   \n2             1                   3              [1, 1, 1]   \n3             1                   3             [1, 1, -1]   \n4             1                   3             [1, -1, 1]   \n\n  ending_colour_vertex  step_time  cycle  \n0               [1, 1]          1      1  \n1              [1, -1]          1      2  \n2            [1, 1, 1]          1      1  \n3            [1, 1, 1]          2      1  \n4            [1, 1, 1]          2      1  ",
      "text/html": "<div>\n<style scoped>\n    .dataframe tbody tr th:only-of-type {\n        vertical-align: middle;\n    }\n\n    .dataframe tbody tr th {\n        vertical-align: top;\n    }\n\n    .dataframe thead th {\n        text-align: right;\n    }\n</style>\n<table border=\"1\" class=\"dataframe\">\n  <thead>\n    <tr style=\"text-align: right;\">\n      <th></th>\n      <th>Graph_number</th>\n      <th>Number_of_vertices</th>\n      <th>starting_colour_vertex</th>\n      <th>ending_colour_vertex</th>\n      <th>step_time</th>\n      <th>cycle</th>\n    </tr>\n  </thead>\n  <tbody>\n    <tr>\n      <th>0</th>\n      <td>1</td>\n      <td>2</td>\n      <td>[1, 1]</td>\n      <td>[1, 1]</td>\n      <td>1</td>\n      <td>1</td>\n    </tr>\n    <tr>\n      <th>1</th>\n      <td>1</td>\n      <td>2</td>\n      <td>[1, -1]</td>\n      <td>[1, -1]</td>\n      <td>1</td>\n      <td>2</td>\n    </tr>\n    <tr>\n      <th>2</th>\n      <td>1</td>\n      <td>3</td>\n      <td>[1, 1, 1]</td>\n      <td>[1, 1, 1]</td>\n      <td>1</td>\n      <td>1</td>\n    </tr>\n    <tr>\n      <th>3</th>\n      <td>1</td>\n      <td>3</td>\n      <td>[1, 1, -1]</td>\n      <td>[1, 1, 1]</td>\n      <td>2</td>\n      <td>1</td>\n    </tr>\n    <tr>\n      <th>4</th>\n      <td>1</td>\n      <td>3</td>\n      <td>[1, -1, 1]</td>\n      <td>[1, 1, 1]</td>\n      <td>2</td>\n      <td>1</td>\n    </tr>\n  </tbody>\n</table>\n</div>"
     },
     "execution_count": 90,
     "metadata": {},
     "output_type": "execute_result"
    }
   ],
   "source": [
    "df.head()"
   ],
   "metadata": {
    "collapsed": false,
    "pycharm": {
     "name": "#%%\n"
    }
   }
  },
  {
   "cell_type": "code",
   "execution_count": 91,
   "outputs": [
    {
     "name": "stdout",
     "output_type": "stream",
     "text": [
      "<class 'pandas.core.frame.DataFrame'>\n",
      "RangeIndex: 866498 entries, 0 to 866497\n",
      "Data columns (total 6 columns):\n",
      " #   Column                  Non-Null Count   Dtype \n",
      "---  ------                  --------------   ----- \n",
      " 0   Graph_number            866498 non-null  int64 \n",
      " 1   Number_of_vertices      866498 non-null  int64 \n",
      " 2   starting_colour_vertex  866498 non-null  object\n",
      " 3   ending_colour_vertex    866498 non-null  object\n",
      " 4   step_time               866498 non-null  int64 \n",
      " 5   cycle                   866498 non-null  int64 \n",
      "dtypes: int64(4), object(2)\n",
      "memory usage: 39.7+ MB\n"
     ]
    }
   ],
   "source": [
    "df.info()"
   ],
   "metadata": {
    "collapsed": false,
    "pycharm": {
     "name": "#%%\n"
    }
   }
  },
  {
   "cell_type": "code",
   "execution_count": 92,
   "outputs": [
    {
     "data": {
      "text/plain": "               cycle      step_time\ncount  866498.000000  866498.000000\nmean        1.159431       2.535094\nstd         0.366078       1.119478\nmin         1.000000       1.000000\n25%         1.000000       2.000000\n50%         1.000000       2.000000\n75%         1.000000       3.000000\nmax         2.000000       7.000000",
      "text/html": "<div>\n<style scoped>\n    .dataframe tbody tr th:only-of-type {\n        vertical-align: middle;\n    }\n\n    .dataframe tbody tr th {\n        vertical-align: top;\n    }\n\n    .dataframe thead th {\n        text-align: right;\n    }\n</style>\n<table border=\"1\" class=\"dataframe\">\n  <thead>\n    <tr style=\"text-align: right;\">\n      <th></th>\n      <th>cycle</th>\n      <th>step_time</th>\n    </tr>\n  </thead>\n  <tbody>\n    <tr>\n      <th>count</th>\n      <td>866498.000000</td>\n      <td>866498.000000</td>\n    </tr>\n    <tr>\n      <th>mean</th>\n      <td>1.159431</td>\n      <td>2.535094</td>\n    </tr>\n    <tr>\n      <th>std</th>\n      <td>0.366078</td>\n      <td>1.119478</td>\n    </tr>\n    <tr>\n      <th>min</th>\n      <td>1.000000</td>\n      <td>1.000000</td>\n    </tr>\n    <tr>\n      <th>25%</th>\n      <td>1.000000</td>\n      <td>2.000000</td>\n    </tr>\n    <tr>\n      <th>50%</th>\n      <td>1.000000</td>\n      <td>2.000000</td>\n    </tr>\n    <tr>\n      <th>75%</th>\n      <td>1.000000</td>\n      <td>3.000000</td>\n    </tr>\n    <tr>\n      <th>max</th>\n      <td>2.000000</td>\n      <td>7.000000</td>\n    </tr>\n  </tbody>\n</table>\n</div>"
     },
     "execution_count": 92,
     "metadata": {},
     "output_type": "execute_result"
    }
   ],
   "source": [
    "df[['cycle', 'step_time']].describe()"
   ],
   "metadata": {
    "collapsed": false,
    "pycharm": {
     "name": "#%%\n"
    }
   }
  },
  {
   "cell_type": "markdown",
   "source": [
    "feature engineering "
   ],
   "metadata": {
    "collapsed": false
   }
  },
  {
   "cell_type": "code",
   "execution_count": 94,
   "outputs": [
    {
     "name": "stdout",
     "output_type": "stream",
     "text": [
      "2    368108\n",
      "3    226648\n",
      "1    126398\n",
      "4     89184\n",
      "5     41040\n",
      "6     13680\n",
      "7      1440\n",
      "Name: step_time, dtype: int64\n"
     ]
    }
   ],
   "source": [
    "step_time_value_counts = df['step_time'].value_counts()\n",
    "print(step_time_value_counts)"
   ],
   "metadata": {
    "collapsed": false,
    "pycharm": {
     "name": "#%%\n"
    }
   }
  },
  {
   "cell_type": "code",
   "execution_count": 116,
   "outputs": [
    {
     "name": "stdout",
     "output_type": "stream",
     "text": [
      "{2: 42.5, 3: 26.2, 1: 14.6, 4: 10.3, 5: 4.7, 6: 1.6, 7: 0.2}\n"
     ]
    }
   ],
   "source": [
    "step_time_value_counts_percent = dict(df.step_time.value_counts(normalize=True) * 100)\n",
    "for k, v in step_time_value_counts_percent.items():\n",
    "    step_time_value_counts_percent[k] = round(v, 1)\n",
    "\n",
    "print(step_time_value_counts_percent)"
   ],
   "metadata": {
    "collapsed": false,
    "pycharm": {
     "name": "#%%\n"
    }
   }
  },
  {
   "cell_type": "code",
   "execution_count": 117,
   "outputs": [
    {
     "data": {
      "text/plain": "   Graph_number  Number_of_vertices starting_colour_vertex  \\\n0             1                   2                 [1, 1]   \n1             1                   2                [1, -1]   \n2             1                   3              [1, 1, 1]   \n3             1                   3             [1, 1, -1]   \n4             1                   3             [1, -1, 1]   \n\n  ending_colour_vertex  step_time  cycle  percent  \n0               [1, 1]          1      1     14.6  \n1              [1, -1]          1      2     14.6  \n2            [1, 1, 1]          1      1     14.6  \n3            [1, 1, 1]          2      1     42.5  \n4            [1, 1, 1]          2      1     42.5  ",
      "text/html": "<div>\n<style scoped>\n    .dataframe tbody tr th:only-of-type {\n        vertical-align: middle;\n    }\n\n    .dataframe tbody tr th {\n        vertical-align: top;\n    }\n\n    .dataframe thead th {\n        text-align: right;\n    }\n</style>\n<table border=\"1\" class=\"dataframe\">\n  <thead>\n    <tr style=\"text-align: right;\">\n      <th></th>\n      <th>Graph_number</th>\n      <th>Number_of_vertices</th>\n      <th>starting_colour_vertex</th>\n      <th>ending_colour_vertex</th>\n      <th>step_time</th>\n      <th>cycle</th>\n      <th>percent</th>\n    </tr>\n  </thead>\n  <tbody>\n    <tr>\n      <th>0</th>\n      <td>1</td>\n      <td>2</td>\n      <td>[1, 1]</td>\n      <td>[1, 1]</td>\n      <td>1</td>\n      <td>1</td>\n      <td>14.6</td>\n    </tr>\n    <tr>\n      <th>1</th>\n      <td>1</td>\n      <td>2</td>\n      <td>[1, -1]</td>\n      <td>[1, -1]</td>\n      <td>1</td>\n      <td>2</td>\n      <td>14.6</td>\n    </tr>\n    <tr>\n      <th>2</th>\n      <td>1</td>\n      <td>3</td>\n      <td>[1, 1, 1]</td>\n      <td>[1, 1, 1]</td>\n      <td>1</td>\n      <td>1</td>\n      <td>14.6</td>\n    </tr>\n    <tr>\n      <th>3</th>\n      <td>1</td>\n      <td>3</td>\n      <td>[1, 1, -1]</td>\n      <td>[1, 1, 1]</td>\n      <td>2</td>\n      <td>1</td>\n      <td>42.5</td>\n    </tr>\n    <tr>\n      <th>4</th>\n      <td>1</td>\n      <td>3</td>\n      <td>[1, -1, 1]</td>\n      <td>[1, 1, 1]</td>\n      <td>2</td>\n      <td>1</td>\n      <td>42.5</td>\n    </tr>\n  </tbody>\n</table>\n</div>"
     },
     "execution_count": 117,
     "metadata": {},
     "output_type": "execute_result"
    }
   ],
   "source": [
    "df['percent'] = df['step_time'].map(step_time_value_counts_percent)\n",
    "df.head()"
   ],
   "metadata": {
    "collapsed": false,
    "pycharm": {
     "name": "#%%\n"
    }
   }
  },
  {
   "cell_type": "markdown",
   "source": [
    "Visualising the percent of step time values"
   ],
   "metadata": {
    "collapsed": false
   }
  },
  {
   "cell_type": "code",
   "execution_count": 118,
   "outputs": [
    {
     "data": {
      "text/plain": "<Figure size 432x288 with 0 Axes>"
     },
     "metadata": {},
     "output_type": "display_data"
    }
   ],
   "source": [
    "sns.set_style(\"whitegrid\")\n",
    "sns.despine()"
   ],
   "metadata": {
    "collapsed": false,
    "pycharm": {
     "name": "#%%\n"
    }
   }
  },
  {
   "cell_type": "code",
   "execution_count": 119,
   "outputs": [
    {
     "data": {
      "text/plain": "<AxesSubplot:>"
     },
     "execution_count": 119,
     "metadata": {},
     "output_type": "execute_result"
    },
    {
     "data": {
      "text/plain": "<Figure size 432x288 with 1 Axes>",
      "image/png": "[encoded data removed]"
     },
     "metadata": {},
     "output_type": "display_data"
    }
   ],
   "source": [
    "plt.ylim(0, 1)\n",
    "df.step_time.value_counts(normalize=True).plot(kind='bar')"
   ],
   "metadata": {
    "collapsed": false,
    "pycharm": {
     "name": "#%%\n"
    }
   }
  },
  {
   "cell_type": "code",
   "execution_count": 120,
   "outputs": [
    {
     "data": {
      "text/plain": "<AxesSubplot:xlabel='Number_of_vertices', ylabel='percent'>"
     },
     "execution_count": 120,
     "metadata": {},
     "output_type": "execute_result"
    },
    {
     "data": {
      "text/plain": "<Figure size 432x288 with 1 Axes>",
      "image/png": "[encoded data removed]"
     },
     "metadata": {},
     "output_type": "display_data"
    }
   ],
   "source": [
    "sns.barplot(x=df['Number_of_vertices'], y=df['percent'], hue=df['step_time'], data=df)"
   ],
   "metadata": {
    "collapsed": false,
    "pycharm": {
     "name": "#%%\n"
    }
   }
  },
  {
   "cell_type": "markdown",
   "source": [
    "Skew and kurtosis values and plots"
   ],
   "metadata": {
    "collapsed": false
   }
  },
  {
   "cell_type": "code",
   "execution_count": 137,
   "outputs": [
    {
     "name": "stdout",
     "output_type": "stream",
     "text": [
      "step_kurt = 0.8300835105937208\n",
      "step_skew = 0.9059689743511474\n",
      "cycle_kurt = 0.8300835105937208\n",
      "cycle_skew = 1.8606344554000638\n",
      "percent_kurt = -1.3578594511310051\n",
      "percent_skew = -0.2933669204845916\n",
      "\n"
     ]
    }
   ],
   "source": [
    "step_skew = skew(df['step_time'])\n",
    "percent_skew = skew(df['percent'])\n",
    "cycle_skew = skew(df['cycle'])\n",
    "step_kurt = kurtosis(df['step_time'], fisher=True)\n",
    "percent_kurt = kurtosis(df['percent'], fisher=True)\n",
    "cycle_kurt = kurtosis(df['step_time'], fisher=True)\n",
    "\n",
    "print(\"step_kurt = {}\\n\"\n",
    "      \"step_skew = {}\\n\"\n",
    "      \"cycle_kurt = {}\\n\"\n",
    "      \"cycle_skew = {}\\n\"\n",
    "      \"percent_kurt = {}\\n\"\n",
    "      \"percent_skew = {}\\n\"\n",
    "      .format(step_kurt, step_skew, cycle_kurt, cycle_skew, percent_kurt, percent_skew))"
   ],
   "metadata": {
    "collapsed": false,
    "pycharm": {
     "name": "#%%\n"
    }
   }
  },
  {
   "cell_type": "code",
   "execution_count": 148,
   "outputs": [
    {
     "data": {
      "text/plain": "(array([0., 0., 0., 0., 0., 1., 0., 0., 0., 0.]),\n array([-0.79336692, -0.69336692, -0.59336692, -0.49336692, -0.39336692,\n        -0.29336692, -0.19336692, -0.09336692,  0.00663308,  0.10663308,\n         0.20663308]),\n <BarContainer object of 10 artists>)"
     },
     "execution_count": 148,
     "metadata": {},
     "output_type": "execute_result"
    },
    {
     "data": {
      "text/plain": "<Figure size 864x576 with 6 Axes>",
      "image/png": "[encoded data removed]"
     },
     "metadata": {},
     "output_type": "display_data"
    }
   ],
   "source": [
    "fig, axs = plt.subplots(2, 3)\n",
    "fig.set_size_inches(12, 8)\n",
    "fig.suptitle('kurtosis and skew for the cycle var')\n",
    "axs[0, 0].title.set_text('step_kurt')\n",
    "axs[0, 1].title.set_text('step_skew')\n",
    "axs[0, 2].title.set_text('cycle_kurt')\n",
    "axs[1, 0].title.set_text('cycle_skew')\n",
    "axs[1, 1].title.set_text('percent_kurt')\n",
    "axs[1, 2].title.set_text('percent_skew')\n",
    "axs[0, 0].hist(step_kurt, bins=10)\n",
    "axs[0, 1].hist(step_skew, bins=10)\n",
    "axs[0, 2].hist(cycle_kurt, bins=10)\n",
    "axs[1, 0].hist(cycle_skew, bins=10)\n",
    "axs[1, 1].hist(percent_kurt, bins=10)\n",
    "axs[1, 2].hist(percent_skew, bins=10)"
   ],
   "metadata": {
    "collapsed": false,
    "pycharm": {
     "name": "#%%\n"
    }
   }
  },
  {
   "cell_type": "code",
   "execution_count": null,
   "outputs": [],
   "source": [],
   "metadata": {
    "collapsed": false,
    "pycharm": {
     "name": "#%%\n"
    }
   }
  }
 ],
 "metadata": {
  "kernelspec": {
   "display_name": "Python 3",
   "language": "python",
   "name": "python3"
  },
  "language_info": {
   "codemirror_mode": {
    "name": "ipython",
    "version": 2
   },
   "file_extension": ".py",
   "mimetype": "text/x-python",
   "name": "python",
   "nbconvert_exporter": "python",
   "pygments_lexer": "ipython2",
   "version": "2.7.6"
  }
 },
 "nbformat": 4,
 "nbformat_minor": 0
}